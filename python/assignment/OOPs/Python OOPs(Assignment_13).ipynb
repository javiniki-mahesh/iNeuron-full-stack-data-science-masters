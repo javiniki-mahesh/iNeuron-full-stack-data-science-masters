{
 "cells": [
  {
   "cell_type": "markdown",
   "id": "dec37677",
   "metadata": {},
   "source": [
    "# Python OOPs(Assignment_13)"
   ]
  },
  {
   "cell_type": "markdown",
   "id": "b0baaa2c",
   "metadata": {},
   "source": [
    "### 1. Explain what inheritance is in object-oriented programming and why it is used."
   ]
  },
  {
   "cell_type": "markdown",
   "id": "8772890b",
   "metadata": {},
   "source": [
    "In object-oriented programming (OOP), inheritance is a fundamental concept that allows a class to inherit properties and behaviors from another class, known as the base class or superclass. The class that inherits these properties and behaviors is called the derived class or subclass.\n",
    "\n",
    "Inheritance is used to establish a hierarchical relationship between classes, where the derived class can reuse and extend the functionality of the base class. This relationship is often referred to as an \"is-a\" relationship. It implies that the derived class is a specialized version of the base class and inherits all its characteristics.\n",
    "\n",
    "Here are the key reasons why inheritance is used in object-oriented programming:\n",
    "\n",
    "1. Code Reusability: Inheritance enables code reuse by allowing the derived class to inherit and utilize the properties and methods defined in the base class. Instead of writing the same code multiple times, common functionality can be placed in a base class and inherited by multiple subclasses. This leads to more efficient and maintainable code.\n",
    "\n",
    "2. Modularity and Extensibility: Inheritance promotes modularity by breaking down complex systems into smaller, more manageable classes. The base class encapsulates common attributes and behaviors, while subclasses can add or override specific functionality as needed. This modular approach allows for easier maintenance, extension, and future enhancements to the codebase.\n",
    "\n",
    "3. Polymorphism: Inheritance is closely tied to the concept of polymorphism, which allows objects of different classes to be treated interchangeably based on a shared base class. Polymorphism enables a high level of abstraction and flexibility in designing and implementing systems, as it allows the same method to be invoked on objects of different classes, resulting in different behaviors.\n",
    "\n",
    "4. Code Organization: Inheritance provides a structured approach to organizing and categorizing classes within a program. By establishing an inheritance hierarchy, classes can be grouped based on their relationships, making the codebase more organized and easier to understand.\n",
    "\n",
    "5. Overriding and Specialization: Subclasses have the ability to override the methods and properties inherited from the base class. This allows subclasses to provide their own implementation of certain behaviors, tailoring them to their specific needs. It enables specialization and customization of functionality within the inherited framework.\n",
    "\n",
    "Overall, inheritance plays a crucial role in object-oriented programming by promoting code reuse, modularity, extensibility, polymorphism, and providing a structured approach to organizing classes. It helps in creating flexible, scalable, and maintainable software systems."
   ]
  },
  {
   "cell_type": "markdown",
   "id": "729675e1",
   "metadata": {},
   "source": [
    "Here's an example of inheritance in Python:"
   ]
  },
  {
   "cell_type": "code",
   "execution_count": null,
   "id": "90851e46",
   "metadata": {},
   "outputs": [],
   "source": [
    "class Animal:\n",
    "    def __init__(self, name):\n",
    "        self.name = name\n",
    "\n",
    "    def speak(self):\n",
    "        print(\"The animal makes a sound.\")\n",
    "\n",
    "class Dog(Animal):\n",
    "    def speak(self):\n",
    "        print(\"The dog barks.\")\n",
    "\n",
    "class Cat(Animal):\n",
    "    def speak(self):\n",
    "        print(\"The cat meows.\")\n",
    "\n",
    "# Creating instances of the derived classes\n",
    "dog = Dog(\"Buddy\")\n",
    "cat = Cat(\"Whiskers\")\n",
    "\n",
    "# Calling the speak() method of the derived classes\n",
    "dog.speak()  # Output: The dog barks.\n",
    "cat.speak()  # Output: The cat meows."
   ]
  },
  {
   "cell_type": "markdown",
   "id": "d76dcf2a",
   "metadata": {},
   "source": [
    "In this example, we have a base class `Animal` that has a constructor `__init__()` to initialize the `name` attribute and a method `speak()` to represent the generic sound an animal makes.\n",
    "\n",
    "The derived class `Dog` inherits from the `Animal` class using the syntax `class Dog(Animal):`. It overrides the `speak()` method with its own implementation to represent a dog's bark.\n",
    "\n",
    "Similarly, the derived class `Cat` also inherits from `Animal` and overrides the `speak()` method to represent a cat's meow.\n",
    "\n",
    "We create instances of the `Dog` and `Cat` classes and call their respective `speak()` methods. As a result, each derived class produces its own specific sound, demonstrating how inheritance allows subclasses to inherit and customize the behavior of the base class.\n",
    "\n",
    "\n",
    "In this example, the `Dog` and `Cat` classes inherit the `name` attribute and the `speak()` method from the `Animal` class through inheritance."
   ]
  },
  {
   "cell_type": "markdown",
   "id": "ed38bbdd",
   "metadata": {},
   "source": [
    "### 2. Discuss the concept of single inheritance and multiple inheritance, highlighting their differences and advantages."
   ]
  },
  {
   "cell_type": "markdown",
   "id": "dcd43651",
   "metadata": {},
   "source": [
    "In object-oriented programming, single inheritance and multiple inheritance are two approaches to class inheritance, each with its own characteristics and advantages. Let's explore each concept and highlight their differences.\n",
    "\n",
    "1. Single Inheritance:\n",
    "Single inheritance refers to the ability of a class to inherit properties and behaviors from a single base class or superclass. In this approach, a derived class extends or specializes the functionality of a single parent class.\n",
    "\n",
    "Advantages of Single Inheritance:\n",
    "- Simplicity: Single inheritance provides a straightforward and simple model for class relationships. It avoids complexities that may arise from managing multiple inheritance relationships.\n",
    "- Clarity and Readability: With single inheritance, the class hierarchy is typically more intuitive and easier to understand. The derived class has a clear parent-child relationship with its superclass, making the code more readable and maintainable.\n",
    "- Reduced Coupling: Single inheritance promotes loose coupling between classes. Since a derived class can have only one superclass, it reduces dependencies and potential conflicts that may arise from multiple inherited behaviors.\n",
    "\n",
    "2. Multiple Inheritance:\n",
    "Multiple inheritance allows a class to inherit properties and behaviors from multiple base classes or superclasses. In this approach, a derived class can extend the functionality of multiple parent classes simultaneously.\n",
    "\n",
    "Advantages of Multiple Inheritance:\n",
    "- Code Reusability: Multiple inheritance provides a powerful mechanism for code reuse. A derived class can inherit and combine the functionality of multiple classes, incorporating different aspects from each superclass. This can lead to more efficient and concise code.\n",
    "- Flexibility and Expressiveness: Multiple inheritance allows for more expressive class relationships. It enables the creation of complex systems by combining characteristics and behaviors from different sources. It provides a high degree of flexibility in designing class hierarchies.\n",
    "- Promotes Composition: Multiple inheritance encourages composition over inheritance. By inheriting from multiple classes, a derived class can compose its behavior by selecting and combining specific features from each superclass. This allows for greater granularity and customization in class design.\n",
    "\n",
    "Differences:\n",
    "The key difference between single inheritance and multiple inheritance lies in the number of base classes a derived class can inherit from. Single inheritance restricts a class to inherit from only one superclass, while multiple inheritance allows for inheritance from multiple superclasses.\n",
    "\n",
    "The choice between single inheritance and multiple inheritance depends on the specific requirements and design considerations of the system. Single inheritance offers simplicity, clarity, and reduced coupling, making it a suitable choice for many scenarios. Multiple inheritance, on the other hand, provides code reusability, flexibility, and expressive power, but it can introduce complexities and potential conflicts that need to be managed carefully.\n",
    "\n",
    "In some programming languages, like C++, multiple inheritance is supported, whereas others, like Java, only support single inheritance. Some languages provide alternative mechanisms, such as interfaces or mixins, to achieve similar benefits without the complexities of multiple inheritance.\n",
    "\n",
    "It's important to consider the trade-offs and carefully design the class hierarchy to ensure code readability, maintainability, and adherence to the principles of object-oriented programming."
   ]
  },
  {
   "cell_type": "markdown",
   "id": "c046a17e",
   "metadata": {},
   "source": [
    "Here are examples of single inheritance and multiple inheritance in Python:\n",
    "##### 1. Single Inheritance Example:"
   ]
  },
  {
   "cell_type": "code",
   "execution_count": 2,
   "id": "4ae50cdc",
   "metadata": {},
   "outputs": [
    {
     "name": "stdout",
     "output_type": "stream",
     "text": [
      "Vehicle: Sedan\n",
      "Brand: Toyota\n"
     ]
    }
   ],
   "source": [
    "class Vehicle:\n",
    "    def __init__(self, name):\n",
    "        self.name = name\n",
    "\n",
    "    def display_info(self):\n",
    "        print(\"Vehicle:\", self.name)\n",
    "\n",
    "class Car(Vehicle):\n",
    "    def __init__(self, name, brand):\n",
    "        super().__init__(name)\n",
    "        self.brand = brand\n",
    "\n",
    "    def display_info(self):\n",
    "        super().display_info()\n",
    "        print(\"Brand:\", self.brand)\n",
    "\n",
    "# Creating an instance of the derived class\n",
    "car = Car(\"Sedan\", \"Toyota\")\n",
    "car.display_info()"
   ]
  },
  {
   "cell_type": "markdown",
   "id": "c8d85216",
   "metadata": {},
   "source": [
    "In this example, we have a base class `Vehicle` with a constructor `__init__()` that initializes the `name` attribute and a method `display_info()` to display general information about a vehicle.\n",
    "\n",
    "The derived class `Car` inherits from the `Vehicle` class using `class Car(Vehicle):`. It adds its own constructor that takes an additional `brand` parameter and overrides the `display_info()` method to display both the vehicle name and brand.\n",
    "\n",
    "Here, the `Car` class inherits the `name` attribute and the `display_info()` method from the `Vehicle` class. It extends the functionality by adding the `brand` attribute and overriding the `display_info()` method.\n",
    "\n",
    "##### 2. Multiple Inheritance Example:\n"
   ]
  },
  {
   "cell_type": "code",
   "execution_count": 3,
   "id": "3645bd83",
   "metadata": {},
   "outputs": [
    {
     "name": "stdout",
     "output_type": "stream",
     "text": [
      "The dog barks.\n",
      "The mammal feeds its babies with milk.\n"
     ]
    }
   ],
   "source": [
    "class Animal:\n",
    "    def __init__(self, name):\n",
    "        self.name = name\n",
    "\n",
    "    def speak(self):\n",
    "        print(\"The animal makes a sound.\")\n",
    "\n",
    "class Mammal:\n",
    "    def feed_baby_milk(self):\n",
    "        print(\"The mammal feeds its babies with milk.\")\n",
    "\n",
    "class Dog(Animal, Mammal):\n",
    "    def speak(self):\n",
    "        print(\"The dog barks.\")\n",
    "\n",
    "# Creating an instance of the derived class\n",
    "dog = Dog(\"Buddy\")\n",
    "dog.speak()\n",
    "dog.feed_baby_milk()"
   ]
  },
  {
   "cell_type": "markdown",
   "id": "35dd0f00",
   "metadata": {},
   "source": [
    "In this example, we have two base classes: `Animal` and `Mammal`. The `Animal` class has a constructor `__init__()` and a method `speak()`, while the `Mammal` class has a method `feed_baby_milk()`.\n",
    "\n",
    "The derived class `Dog` inherits from both the `Animal` and `Mammal` classes using `class Dog(Animal, Mammal):`. It overrides the `speak()` method with its own implementation.\n",
    "\n",
    "\n",
    "\n",
    "Here, the `Dog` class inherits both the `name` attribute and the `speak()` method from the `Animal` class, as well as the `feed_baby_milk()` method from the `Mammal` class. It combines and utilizes the functionalities from both base classes.\n",
    "\n",
    "Please note that multiple inheritance should be used with caution, as it can introduce complexities and potential conflicts. Careful design and consideration of class relationships are necessary to avoid any issues."
   ]
  },
  {
   "cell_type": "markdown",
   "id": "4e18f6ef",
   "metadata": {},
   "source": [
    "### 3. Explain the terms \"base class\" and \"derived class\" in the context of inheritance."
   ]
  },
  {
   "cell_type": "markdown",
   "id": "c27c1eee",
   "metadata": {},
   "source": [
    "In the context of inheritance, the terms \"base class\" and \"derived class\" refer to the classes involved in the inheritance relationship. \n",
    "\n",
    "- Base Class: The base class, also known as the superclass or parent class, is the class from which other classes inherit properties and behaviors. It serves as the foundation or blueprint for creating derived classes. The base class encapsulates common attributes and methods that can be shared by multiple subclasses.\n",
    "\n",
    "- Derived Class: The derived class, also known as the subclass or child class, is the class that inherits properties and behaviors from the base class. It extends or specializes the functionality of the base class by adding new attributes or methods or by overriding existing ones. The derived class can also introduce its own unique attributes and methods.\n",
    "\n",
    "Here's an example to illustrate the concepts of base class and derived class:\n"
   ]
  },
  {
   "cell_type": "code",
   "execution_count": 3,
   "id": "52f2038a",
   "metadata": {},
   "outputs": [
    {
     "name": "stdout",
     "output_type": "stream",
     "text": [
      "Name: Buddy\n",
      "Breed: Labrador Retriever\n",
      "The dog barks.\n"
     ]
    }
   ],
   "source": [
    "class Animal:\n",
    "    def __init__(self, name):\n",
    "        self.name = name\n",
    "\n",
    "    def speak(self):\n",
    "        print(\"The animal makes a sound.\")\n",
    "\n",
    "class Dog(Animal):\n",
    "    def __init__(self, name, breed):\n",
    "        super().__init__(name)\n",
    "        self.breed = breed\n",
    "\n",
    "    def speak(self):\n",
    "        print(\"The dog barks.\")\n",
    "\n",
    "# Creating an instance of the derived class\n",
    "dog = Dog(\"Buddy\", \"Labrador Retriever\")\n",
    "\n",
    "# Accessing attributes and calling methods\n",
    "print(\"Name:\", dog.name)   # Output: Name: Buddy\n",
    "print(\"Breed:\", dog.breed) # Output: Breed: Labrador Retriever\n",
    "dog.speak()                # Output: The dog barks."
   ]
  },
  {
   "cell_type": "markdown",
   "id": "46f7f562",
   "metadata": {},
   "source": [
    "In this example, the `Animal` class is the base class, which defines a constructor `__init__()` to initialize the `name` attribute and a `speak()` method to represent the generic sound an animal makes.\n",
    "\n",
    "The `Dog` class is the derived class, which inherits from the `Animal` class using `class Dog(Animal):`. It adds its own constructor that takes an additional `breed` parameter and overrides the `speak()` method with its own implementation.\n",
    "\n",
    "We create an instance of the `Dog` class named `dog` with the name \"Buddy\" and the breed \"Labrador Retriever\". We can access the attributes `name` and `breed` specific to the `Dog` class. When we call the `speak()` method, the overridden method in the `Dog` class is invoked, resulting in the output \"The dog barks.\"\n",
    "\n",
    "In this example, `Animal` is the base class, and `Dog` is the derived class that inherits attributes and methods from the base class while introducing its own attributes and methods."
   ]
  },
  {
   "cell_type": "markdown",
   "id": "e7894dbe",
   "metadata": {},
   "source": [
    "### 4. What is the significance of the \"protected\" access modifier in inheritance? How does it differ from \"private\" and \"public\" modifiers?"
   ]
  },
  {
   "cell_type": "markdown",
   "id": "189eb0b3",
   "metadata": {},
   "source": [
    "In object-oriented programming, access modifiers determine the visibility and accessibility of class members (attributes and methods) from other parts of the program. In Python, there is no strict enforcement of access modifiers like in some other languages (e.g., Java), but naming conventions are often followed to indicate the intended visibility. \n",
    "\n",
    "Let's explore the significance of the \"protected\" access modifier in inheritance and how it differs from \"private\" and \"public\" modifiers:\n",
    "\n",
    "1. Private Access Modifier:\n",
    "Private members are denoted by a single underscore prefix (e.g., `_attribute` or `_method`). These members are intended to be internal to the class and are not directly accessible outside the class, including derived classes. Private members can only be accessed within the class itself. It helps in encapsulation by hiding implementation details and preventing direct modification or access from external code.\n",
    "\n",
    "2. Protected Access Modifier:\n",
    "Protected members are denoted by a single underscore prefix (e.g., `_attribute` or `_method`). Although there is no strict enforcement of protected access in Python, it is commonly used to indicate that the member is intended for internal use within the class and its derived classes. Protected members can be accessed within the class itself and its derived classes, but not from outside the class hierarchy. It allows subclasses to utilize and extend the behavior of the base class without exposing the member to external code.\n",
    "\n",
    "The significance of the protected access modifier in inheritance is that it provides a level of encapsulation while allowing derived classes to access and extend the functionality of the base class.\n",
    "\n",
    "3. Public Access Modifier:\n",
    "Public members have no special prefix and are accessible from anywhere within the program, including external code. They can be accessed directly by objects of the class or through inheritance in derived classes. Public members provide the highest level of visibility and are often used for attributes and methods that are intended to be accessed and used by external code.\n",
    "\n",
    "To summarize the differences:\n",
    "\n",
    "- Private members are accessible only within the class itself, not accessible in derived classes or external code.\n",
    "- Protected members are accessible within the class itself and its derived classes, but not accessible from external code.\n",
    "- Public members are accessible from anywhere within the program, including external code.\n",
    "\n",
    "It's important to note that in Python, these access modifiers are not strictly enforced, and the convention of using single or double underscores as prefixes is primarily followed to indicate the intended visibility. Developers are responsible for respecting these conventions and adhering to the principles of encapsulation and information hiding in their code."
   ]
  },
  {
   "cell_type": "markdown",
   "id": "94680236",
   "metadata": {},
   "source": [
    "### 5. What is the purpose of the \"super\" keyword in inheritance? Provide an example"
   ]
  },
  {
   "cell_type": "markdown",
   "id": "6e8fde9c",
   "metadata": {},
   "source": [
    "The \"super\" keyword in inheritance is used to refer to the superclass (or base class) of a derived class. It provides a way to access and invoke the methods and attributes of the superclass from within the derived class. The \"super\" keyword is particularly useful when overriding methods in the derived class while still wanting to utilize the functionality of the superclass.\n",
    "\n",
    "The primary purposes of the \"super\" keyword in inheritance are:\n",
    "\n",
    "1. Accessing the Superclass: The \"super\" keyword allows a derived class to access and call methods or access attributes of the superclass. This enables the derived class to inherit and utilize the existing functionality defined in the superclass.\n",
    "\n",
    "2. Method Overriding: When a method is overridden in the derived class, the \"super\" keyword can be used to invoke the overridden method in the superclass, allowing the derived class to extend or modify the behavior while still utilizing the original implementation of the superclass.\n",
    "\n",
    "Here's an example to illustrate the usage of the \"super\" keyword in inheritance:\n"
   ]
  },
  {
   "cell_type": "code",
   "execution_count": 7,
   "id": "c4b45107",
   "metadata": {},
   "outputs": [
    {
     "name": "stdout",
     "output_type": "stream",
     "text": [
      "The animal makes a sound.\n",
      "The dog barks.\n"
     ]
    }
   ],
   "source": [
    "class Animal:\n",
    "    def __init__(self, name):\n",
    "        self.name = name\n",
    "\n",
    "    def speak(self):\n",
    "        print(\"The animal makes a sound.\")\n",
    "\n",
    "class Dog(Animal):\n",
    "    def __init__(self, name, breed):\n",
    "        super().__init__(name)\n",
    "        self.breed = breed\n",
    "\n",
    "    def speak(self):\n",
    "        super().speak()\n",
    "        print(\"The dog barks.\")\n",
    "\n",
    "# Creating an instance of the derived class\n",
    "dog = Dog(\"Buddy\", \"Labrador Retriever\")\n",
    "dog.speak()"
   ]
  },
  {
   "cell_type": "markdown",
   "id": "eb0b816f",
   "metadata": {},
   "source": [
    "\n",
    "\n",
    "In this example, we have a base class `Animal` with an `__init__()` method and a `speak()` method representing a generic sound an animal makes.\n",
    "\n",
    "The derived class `Dog` inherits from the `Animal` class using `class Dog(Animal):`. It overrides the `__init__()` method to add the `breed` attribute and also overrides the `speak()` method to add a specific behavior for a dog.\n",
    "\n",
    "Within the `__init__()` method of the `Dog` class, the `super().__init__(name)` statement is used to invoke the `__init__()` method of the `Animal` class, allowing the `name` attribute to be initialized properly.\n",
    "\n",
    "Within the `speak()` method of the `Dog` class, the `super().speak()` statement is used to invoke the `speak()` method of the `Animal` class, which prints the generic sound of an animal. The `print(\"The dog barks.\")` statement is then added to provide the specific behavior for a dog.\n",
    "\n",
    "In this example, the \"super\" keyword enables the `Dog` class to access and utilize the `__init__()` and `speak()` methods of the `Animal` class while adding its own specific behavior. It allows the derived class to extend or modify the functionality inherited from the superclass."
   ]
  },
  {
   "cell_type": "markdown",
   "id": "39de83bb",
   "metadata": {},
   "source": [
    "### 6. Create a base class called \"Vehicle\" with attributes like \"make\", \"model\", and \"year\". Then, create a derived class called \"Car\" that inherits from \"Vehicle\" and adds an attribute called \"fuel_type\". Implement appropriate methods in both classes."
   ]
  },
  {
   "cell_type": "markdown",
   "id": "2bc68a99",
   "metadata": {},
   "source": [
    "Here's an example of creating a base class called \"Vehicle\" and a derived class called \"Car\" that inherits from the \"Vehicle\" class:"
   ]
  },
  {
   "cell_type": "code",
   "execution_count": 24,
   "id": "8c88e00b",
   "metadata": {},
   "outputs": [
    {
     "name": "stdout",
     "output_type": "stream",
     "text": [
      "Make: Toyota\n",
      "Model: Camry\n",
      "Year: 2022\n",
      "Fuel Type: Gasoline\n"
     ]
    }
   ],
   "source": [
    "class Vehicle:\n",
    "    def __init__(self, make, model, year):\n",
    "        self.make = make\n",
    "        self.model = model\n",
    "        self.year = year\n",
    "\n",
    "    def display_info(self):\n",
    "        print(\"Make:\", self.make)\n",
    "        print(\"Model:\", self.model)\n",
    "        print(\"Year:\", self.year)\n",
    "\n",
    "class Car(Vehicle):\n",
    "    def __init__(self, make, model, year, fuel_type):\n",
    "        super().__init__(make, model, year)\n",
    "        self.fuel_type = fuel_type\n",
    "\n",
    "    def display_info(self):\n",
    "        super().display_info()\n",
    "        print(\"Fuel Type:\", self.fuel_type)\n",
    "\n",
    "# Creating an instance of the derived class\n",
    "car = Car(\"Toyota\", \"Camry\", 2022, \"Gasoline\")\n",
    "\n",
    "# Accessing attributes and calling methods\n",
    "car.display_info()"
   ]
  },
  {
   "cell_type": "markdown",
   "id": "3780ddcc",
   "metadata": {},
   "source": [
    "In this example, we have a base class called \"Vehicle\" with attributes like \"make\", \"model\", and \"year\". It also has a method called \"display_info()\" to display the information about the vehicle.\n",
    "\n",
    "The derived class \"Car\" inherits from the \"Vehicle\" class using `class Car(Vehicle):`. It adds an additional attribute called \"fuel_type\" and overrides the \"display_info()\" method to include the fuel type.\n",
    "\n",
    "We create an instance of the \"Car\" class named \"car\" with the make \"Toyota\", model \"Camry\", year 2022, and fuel type \"Gasoline\". We then call the \"display_info()\" method on the \"car\" object to display the information about the car, including the inherited attributes from the base class and the added fuel type attribute.\n",
    "\n",
    "In this example, the derived class \"Car\" inherits the \"make\", \"model\", and \"year\" attributes from the base class \"Vehicle\". It also adds the \"fuel_type\" attribute and overrides the \"display_info()\" method to include the fuel type information specific to cars."
   ]
  },
  {
   "cell_type": "markdown",
   "id": "16b39250",
   "metadata": {},
   "source": [
    "### 7. Create a base class called \"Employee\" with attributes like \"name\" and \"salary.\" Derive two classes, \"Manager\" and \"Developer,\" from \"Employee.\" Add an additional attribute called \"department\" for the \"Manager\" class and \"programming_language\" for the \"Developer\" class."
   ]
  },
  {
   "cell_type": "markdown",
   "id": "113db2ee",
   "metadata": {},
   "source": [
    "Here's an example of creating a base class called \"Employee\" and deriving two classes, \"Manager\" and \"Developer,\" from the \"Employee\" class:"
   ]
  },
  {
   "cell_type": "code",
   "execution_count": 30,
   "id": "10e1c9a7",
   "metadata": {},
   "outputs": [
    {
     "name": "stdout",
     "output_type": "stream",
     "text": [
      "Name: Mahesh\n",
      "Salary: 50000\n",
      "Department: Marketing\n",
      "\n",
      "Name: Kalyan\n",
      "Salary: 60000\n",
      "Programming Language: Python\n"
     ]
    }
   ],
   "source": [
    "class Employee:\n",
    "    def __init__(self, name, salary):\n",
    "        self.name = name\n",
    "        self.salary = salary\n",
    "\n",
    "    def display_info(self):\n",
    "        print(\"Name:\", self.name)\n",
    "        print(\"Salary:\", self.salary)\n",
    "\n",
    "class Manager(Employee):\n",
    "    def __init__(self, name, salary, department):\n",
    "        super().__init__(name, salary)\n",
    "        self.department = department\n",
    "\n",
    "    def display_info(self):\n",
    "        super().display_info()\n",
    "        print(\"Department:\", self.department)\n",
    "\n",
    "class Developer(Employee):\n",
    "    def __init__(self, name, salary, programming_language):\n",
    "        super().__init__(name, salary)\n",
    "        self.programming_language = programming_language\n",
    "\n",
    "    def display_info(self):\n",
    "        super().display_info()\n",
    "        print(\"Programming Language:\", self.programming_language)\n",
    "\n",
    "# Creating instances of the derived classes\n",
    "manager = Manager(\"Mahesh\", 50000, \"Marketing\")\n",
    "developer = Developer(\"Kalyan\", 60000, \"Python\")\n",
    "\n",
    "# Accessing attributes and calling methods\n",
    "manager.display_info()\n",
    "print()\n",
    "developer.display_info()"
   ]
  },
  {
   "cell_type": "markdown",
   "id": "6268e510",
   "metadata": {},
   "source": [
    "\n",
    "In this example, we have a base class called \"Employee\" with attributes like \"name\" and \"salary\". It also has a method called \"display_info()\" to display the information about the employee.\n",
    "\n",
    "The derived class \"Manager\" inherits from the \"Employee\" class using `class Manager(Employee):`. It adds an additional attribute called \"department\" and overrides the \"display_info()\" method to include the department information.\n",
    "\n",
    "The derived class \"Developer\" also inherits from the \"Employee\" class using `class Developer(Employee):`. It adds an additional attribute called \"programming_language\" and overrides the \"display_info()\" method to include the programming language information.\n",
    "\n",
    "We create instances of the \"Manager\" and \"Developer\" classes with appropriate attribute values. We then call the \"display_info()\" method on each object to display the information about the employees, including the inherited attributes from the base class and the added attributes specific to each derived class.\n",
    "\n",
    "In this example, the derived classes \"Manager\" and \"Developer\" inherit the \"name\" and \"salary\" attributes from the base class \"Employee\". They also add additional attributes (\"department\" and \"programming_language\") and override the \"display_info()\" method to include their specific information."
   ]
  },
  {
   "cell_type": "markdown",
   "id": "2124687b",
   "metadata": {},
   "source": [
    "### 8. Design a base class called \"Shape\" with attributes like \"colour\" and \"border_width.\" Create derived classes, \"Rectangle\" and \"Circle,\" that inherit from \"Shape\" and add specific attributes like \"length\" and \"width\" for the \"Rectangle\" class and \"radius\" for the \"Circle\" class."
   ]
  },
  {
   "cell_type": "markdown",
   "id": "e38462ff",
   "metadata": {},
   "source": [
    "Here's an example of designing a base class called \"Shape\" and creating derived classes \"Rectangle\" and \"Circle\" that inherit from the \"Shape\" class:"
   ]
  },
  {
   "cell_type": "code",
   "execution_count": 32,
   "id": "9ab14e7f",
   "metadata": {},
   "outputs": [
    {
     "name": "stdout",
     "output_type": "stream",
     "text": [
      "Colour: Red\n",
      "Border Width: 2\n",
      "Length: 10\n",
      "Width: 5\n",
      "\n",
      "Colour: Blue\n",
      "Border Width: 3\n",
      "Radius: 7\n"
     ]
    }
   ],
   "source": [
    "class Shape:\n",
    "    def __init__(self, colour, border_width):\n",
    "        self.colour = colour\n",
    "        self.border_width = border_width\n",
    "\n",
    "    def display_info(self):\n",
    "        print(\"Colour:\", self.colour)\n",
    "        print(\"Border Width:\", self.border_width)\n",
    "\n",
    "class Rectangle(Shape):\n",
    "    def __init__(self, colour, border_width, length, width):\n",
    "        super().__init__(colour, border_width)\n",
    "        self.length = length\n",
    "        self.width = width\n",
    "\n",
    "    def display_info(self):\n",
    "        super().display_info()\n",
    "        print(\"Length:\", self.length)\n",
    "        print(\"Width:\", self.width)\n",
    "\n",
    "class Circle(Shape):\n",
    "    def __init__(self, colour, border_width, radius):\n",
    "        super().__init__(colour, border_width)\n",
    "        self.radius = radius\n",
    "\n",
    "    def display_info(self):\n",
    "        super().display_info()\n",
    "        print(\"Radius:\", self.radius)\n",
    "\n",
    "# Creating instances of the derived classes\n",
    "rectangle = Rectangle(\"Red\", 2, 10, 5)\n",
    "circle = Circle(\"Blue\", 3, 7)\n",
    "\n",
    "# Accessing attributes and calling methods\n",
    "rectangle.display_info()\n",
    "print()\n",
    "circle.display_info()"
   ]
  },
  {
   "cell_type": "markdown",
   "id": "1094180a",
   "metadata": {},
   "source": [
    "In this example, we have a base class called \"Shape\" with attributes like \"colour\" and \"border_width\". It also has a method called \"display_info()\" to display the information about the shape.\n",
    "\n",
    "The derived class \"Rectangle\" inherits from the \"Shape\" class using `class Rectangle(Shape):`. It adds additional attributes called \"length\" and \"width\" and overrides the \"display_info()\" method to include the length and width information.\n",
    "\n",
    "The derived class \"Circle\" also inherits from the \"Shape\" class using `class Circle(Shape):`. It adds an additional attribute called \"radius\" and overrides the \"display_info()\" method to include the radius information.\n",
    "\n",
    "We create instances of the \"Rectangle\" and \"Circle\" classes with appropriate attribute values. We then call the \"display_info()\" method on each object to display the information about the shapes, including the inherited attributes from the base class and the added attributes specific to each derived class.\n",
    "\n",
    "\n",
    "In this example, the derived classes \"Rectangle\" and \"Circle\" inherit the \"colour\" and \"border_width\" attributes from the base class \"Shape\". They also add additional attributes (\"length\", \"width\", and \"radius\") and override the \"display_info()\" method to include their specific information."
   ]
  },
  {
   "cell_type": "markdown",
   "id": "c87f578b",
   "metadata": {},
   "source": [
    "### 9. Create a base class called \"Device\" with attributes like \"brand\" and \"model.\" Derive two classes, \"Phone\" and \"Tablet,\" from \"Device.\" Add specific attributes like \"screen_size\" for the \"Phone\" class and \"battery_capacity\" for the \"Tablet\" class."
   ]
  },
  {
   "cell_type": "markdown",
   "id": "b4a3f02d",
   "metadata": {},
   "source": [
    "Here's an example of creating a base class called \"Device\" and deriving two classes, \"Phone\" and \"Tablet,\" from the \"Device\" class:"
   ]
  },
  {
   "cell_type": "code",
   "execution_count": 34,
   "id": "78f8308e",
   "metadata": {},
   "outputs": [
    {
     "name": "stdout",
     "output_type": "stream",
     "text": [
      "Brand: Apple\n",
      "Model: iPhone 12\n",
      "Screen Size: 6.1\n",
      "\n",
      "Brand: Samsung\n",
      "Model: Galaxy Tab S7\n",
      "Battery Capacity: 8000 mAh\n"
     ]
    }
   ],
   "source": [
    "class Device:\n",
    "    def __init__(self, brand, model):\n",
    "        self.brand = brand\n",
    "        self.model = model\n",
    "\n",
    "    def display_info(self):\n",
    "        print(\"Brand:\", self.brand)\n",
    "        print(\"Model:\", self.model)\n",
    "\n",
    "class Phone(Device):\n",
    "    def __init__(self, brand, model, screen_size):\n",
    "        super().__init__(brand, model)\n",
    "        self.screen_size = screen_size\n",
    "\n",
    "    def display_info(self):\n",
    "        super().display_info()\n",
    "        print(\"Screen Size:\", self.screen_size)\n",
    "\n",
    "class Tablet(Device):\n",
    "    def __init__(self, brand, model, battery_capacity):\n",
    "        super().__init__(brand, model)\n",
    "        self.battery_capacity = battery_capacity\n",
    "\n",
    "    def display_info(self):\n",
    "        super().display_info()\n",
    "        print(\"Battery Capacity:\", self.battery_capacity)\n",
    "\n",
    "# Creating instances of the derived classes\n",
    "phone = Phone(\"Apple\", \"iPhone 12\", 6.1)\n",
    "tablet = Tablet(\"Samsung\", \"Galaxy Tab S7\", \"8000 mAh\")\n",
    "\n",
    "# Accessing attributes and calling methods\n",
    "phone.display_info()\n",
    "print()\n",
    "tablet.display_info()"
   ]
  },
  {
   "cell_type": "markdown",
   "id": "ae02a5f6",
   "metadata": {},
   "source": [
    "\n",
    "In this example, we have a base class called \"Device\" with attributes like \"brand\" and \"model\". It also has a method called \"display_info()\" to display the information about the device.\n",
    "\n",
    "The derived class \"Phone\" inherits from the \"Device\" class using `class Phone(Device):`. It adds an additional attribute called \"screen_size\" and overrides the \"display_info()\" method to include the screen size information.\n",
    "\n",
    "The derived class \"Tablet\" also inherits from the \"Device\" class using `class Tablet(Device):`. It adds an additional attribute called \"battery_capacity\" and overrides the \"display_info()\" method to include the battery capacity information.\n",
    "\n",
    "We create instances of the \"Phone\" and \"Tablet\" classes with appropriate attribute values. We then call the \"display_info()\" method on each object to display the information about the devices, including the inherited attributes from the base class and the added attributes specific to each derived class.\n",
    "\n",
    "In this example, the derived classes \"Phone\" and \"Tablet\" inherit the \"brand\" and \"model\" attributes from the base class \"Device\". They also add additional attributes (\"screen_size\" and \"battery_capacity\") and override the \"display_info()\" method to include their specific information."
   ]
  },
  {
   "cell_type": "markdown",
   "id": "fe9ab50e",
   "metadata": {},
   "source": [
    "### 10. Create a base class called \"BankAccount\" with attributes like \"account_number\" and \"balance.\" Derive two classes, \"SavingsAccount\" and \"CheckingAccount,\" from \"BankAccount.\" Add specific methods like \"calculate_interest\" for the \"SavingsAccount\" class and \"deduct_fees\" for the \"CheckingAccount\" class."
   ]
  },
  {
   "cell_type": "markdown",
   "id": "00d54808",
   "metadata": {},
   "source": [
    "Here's an example of creating a base class called \"BankAccount\" and deriving two classes, \"SavingsAccount\" and \"CheckingAccount,\" from the \"BankAccount\" class:"
   ]
  },
  {
   "cell_type": "code",
   "execution_count": 36,
   "id": "1e65da86",
   "metadata": {},
   "outputs": [
    {
     "name": "stdout",
     "output_type": "stream",
     "text": [
      "Account Number: 123456789\n",
      "Balance: 1000\n",
      "Account Number: 123456789\n",
      "Balance: 1050.0\n",
      "\n",
      "Account Number: 987654321\n",
      "Balance: 2000\n",
      "Account Number: 987654321\n",
      "Balance: 1950\n"
     ]
    }
   ],
   "source": [
    "class BankAccount:\n",
    "    def __init__(self, account_number, balance):\n",
    "        self.account_number = account_number\n",
    "        self.balance = balance\n",
    "\n",
    "    def display_info(self):\n",
    "        print(\"Account Number:\", self.account_number)\n",
    "        print(\"Balance:\", self.balance)\n",
    "\n",
    "class SavingsAccount(BankAccount):\n",
    "    def __init__(self, account_number, balance):\n",
    "        super().__init__(account_number, balance)\n",
    "\n",
    "    def calculate_interest(self, interest_rate):\n",
    "        interest = self.balance * interest_rate\n",
    "        self.balance += interest\n",
    "\n",
    "class CheckingAccount(BankAccount):\n",
    "    def __init__(self, account_number, balance):\n",
    "        super().__init__(account_number, balance)\n",
    "\n",
    "    def deduct_fees(self, fee_amount):\n",
    "        self.balance -= fee_amount\n",
    "\n",
    "# Creating instances of the derived classes\n",
    "savings_account = SavingsAccount(\"123456789\", 1000)\n",
    "checking_account = CheckingAccount(\"987654321\", 2000)\n",
    "\n",
    "# Accessing attributes and calling methods\n",
    "savings_account.display_info()\n",
    "savings_account.calculate_interest(0.05)\n",
    "savings_account.display_info()\n",
    "\n",
    "print()\n",
    "\n",
    "checking_account.display_info()\n",
    "checking_account.deduct_fees(50)\n",
    "checking_account.display_info()"
   ]
  },
  {
   "cell_type": "markdown",
   "id": "f500a4af",
   "metadata": {},
   "source": [
    "In this example, we have a base class called \"BankAccount\" with attributes like \"account_number\" and \"balance\". It also has a method called \"display_info()\" to display the information about the bank account.\n",
    "\n",
    "The derived class \"SavingsAccount\" inherits from the \"BankAccount\" class using `class SavingsAccount(BankAccount):`. It does not add any additional attributes but introduces a method called \"calculate_interest()\" to calculate and add interest to the account balance.\n",
    "\n",
    "The derived class \"CheckingAccount\" also inherits from the \"BankAccount\" class using `class CheckingAccount(BankAccount):`. It does not add any additional attributes but introduces a method called \"deduct_fees()\" to deduct fees from the account balance.\n",
    "\n",
    "We create instances of the \"SavingsAccount\" and \"CheckingAccount\" classes with appropriate attribute values. We then call the \"display_info()\" method to display the initial account information, perform specific operations using the methods, and display the updated account information.\n",
    "\n",
    "In this example, the derived classes \"SavingsAccount\" and \"CheckingAccount\" inherit the \"account_number\" and \"balance\" attributes from the base class \"BankAccount\". They also introduce specific methods (\"calculate_interest()\" and \"deduct_fees()\") to perform operations specific to savings and checking accounts, respectively."
   ]
  }
 ],
 "metadata": {
  "kernelspec": {
   "display_name": "Python 3 (ipykernel)",
   "language": "python",
   "name": "python3"
  },
  "language_info": {
   "codemirror_mode": {
    "name": "ipython",
    "version": 3
   },
   "file_extension": ".py",
   "mimetype": "text/x-python",
   "name": "python",
   "nbconvert_exporter": "python",
   "pygments_lexer": "ipython3",
   "version": "3.9.12"
  }
 },
 "nbformat": 4,
 "nbformat_minor": 5
}
