{
 "cells": [
  {
   "cell_type": "markdown",
   "id": "8b22eb51",
   "metadata": {},
   "source": [
    "# Python OOPs(Assignment_12)"
   ]
  },
  {
   "cell_type": "markdown",
   "id": "f1c1f0be",
   "metadata": {},
   "source": [
    "### 1. What is the primary goal of Object-Oriented Programming (OOP)?"
   ]
  },
  {
   "cell_type": "markdown",
   "id": "70a48de8",
   "metadata": {},
   "source": [
    "The primary goal of Object-Oriented Programming (OOP) is to provide a programming paradigm that promotes the modeling of real-world entities as objects, which encapsulate data and behavior. OOP aims to organize code into reusable and modular components called objects, each representing a specific entity or concept. It emphasizes the concept of classes, which are blueprint templates for creating objects, defining their properties (attributes) and behaviors (methods).\n",
    "\n",
    "By utilizing OOP principles, such as encapsulation, inheritance, and polymorphism, the primary goal is to achieve code reusability, modularity, and maintainability. OOP facilitates the creation of complex systems by breaking them down into smaller, more manageable objects, allowing for easier understanding, collaboration, and maintenance of code. It also promotes the concept of data hiding and abstraction, enabling developers to control access to object internals and provide simplified interfaces for interacting with objects.\n",
    "\n",
    "Overall, the primary goal of OOP is to provide a structured and efficient approach to software development by modeling real-world entities as objects, enabling developers to build scalable, maintainable, and extensible applications."
   ]
  },
  {
   "cell_type": "markdown",
   "id": "ddb0146b",
   "metadata": {},
   "source": [
    "### 2. What is an object in Python?"
   ]
  },
  {
   "cell_type": "markdown",
   "id": "02a4a6e9",
   "metadata": {},
   "source": [
    "In Python, an object is a fundamental concept in Object-Oriented Programming (OOP) and refers to a specific instance of a class. It is a self-contained entity that encapsulates data (attributes) and behavior (methods) related to a particular concept or entity.\n",
    "\n",
    "Objects are created based on a class, which serves as a blueprint or template defining the common structure and behavior that the objects of that class will possess. Each object created from the class has its own unique set of attributes and can execute the methods defined in the class.\n",
    "\n",
    "To create an object in Python, you first define a class with the `class` keyword, specifying its attributes and methods. Then, you can instantiate an object by calling the class as if it were a function. This process is known as object instantiation or object creation.\n",
    "\n",
    "Here's a simple example:\n"
   ]
  },
  {
   "cell_type": "code",
   "execution_count": 3,
   "id": "6b506632",
   "metadata": {},
   "outputs": [
    {
     "name": "stdout",
     "output_type": "stream",
     "text": [
      "Mahesh\n",
      "20\n",
      "Hello, my name is Mahesh and I am 20 years old.\n"
     ]
    }
   ],
   "source": [
    "class Person:\n",
    "    def __init__(self, name, age):\n",
    "        self.name = name\n",
    "        self.age = age\n",
    "\n",
    "    def greet(self):\n",
    "        print(f\"Hello, my name is {self.name} and I am {self.age} years old.\")\n",
    "\n",
    "# Creating an object of the Person class\n",
    "person1 = Person(\"Mahesh\", 20)\n",
    "\n",
    "# Accessing object attributes\n",
    "print(person1.name)  # Output: Mahesh\n",
    "print(person1.age)   # Output: 20\n",
    "\n",
    "# Calling object methods\n",
    "person1.greet()     "
   ]
  },
  {
   "cell_type": "markdown",
   "id": "913c7468",
   "metadata": {},
   "source": [
    "In this example, the `Person` class represents a person entity, and `person1` is an object of that class. It has attributes `name` and `age`, and a method `greet()` to introduce itself."
   ]
  },
  {
   "cell_type": "markdown",
   "id": "1377040e",
   "metadata": {},
   "source": [
    "### 3. What is a class in Python?"
   ]
  },
  {
   "cell_type": "markdown",
   "id": "33e2ae95",
   "metadata": {},
   "source": [
    "In Python, a class is a blueprint or template that defines the structure, behavior, and attributes that objects created from it will possess. It serves as a fundamental building block of Object-Oriented Programming (OOP). A class encapsulates related data and functions into a single unit.\n",
    "\n",
    "The structure of a class consists of attributes and methods. Attributes are variables that hold data associated with the class or its objects, while methods are functions defined within the class that define the behavior of the class or its objects.\n",
    "\n",
    "Here's an example of a simple class in Python:\n"
   ]
  },
  {
   "cell_type": "code",
   "execution_count": 5,
   "id": "955fa48e",
   "metadata": {},
   "outputs": [],
   "source": [
    "class Rectangle:\n",
    "    def __init__(self, width, height):\n",
    "        self.width = width\n",
    "        self.height = height\n",
    "\n",
    "    def area(self):\n",
    "        return self.width * self.height\n",
    "\n",
    "    def perimeter(self):\n",
    "        return 2 * (self.width + self.height)"
   ]
  },
  {
   "cell_type": "markdown",
   "id": "1b5757f2",
   "metadata": {},
   "source": [
    "In this example, the `Rectangle` class represents a geometric rectangle. It has attributes `width` and `height`, which define the dimensions of the rectangle. The class also has two methods, `area()` and `perimeter()`, which calculate the area and perimeter of the rectangle, respectively.\n",
    "\n",
    "To create an object from a class, you can instantiate it by calling the class as if it were a function, passing any required arguments. Each object created from the class will have its own set of attributes and can execute the methods defined in the class.\n",
    "\n",
    "Here's how you can create objects from the `Rectangle` class and use their attributes and methods:"
   ]
  },
  {
   "cell_type": "code",
   "execution_count": 6,
   "id": "555349b8",
   "metadata": {},
   "outputs": [
    {
     "name": "stdout",
     "output_type": "stream",
     "text": [
      "4\n",
      "6\n",
      "20\n",
      "18\n"
     ]
    }
   ],
   "source": [
    "# Creating objects of the Rectangle class\n",
    "rectangle1 = Rectangle(4, 5)\n",
    "rectangle2 = Rectangle(3, 6)\n",
    "\n",
    "# Accessing object attributes\n",
    "print(rectangle1.width)    # Output: 4\n",
    "print(rectangle2.height)   # Output: 6\n",
    "\n",
    "# Calling object methods\n",
    "print(rectangle1.area())      # Output: 20\n",
    "print(rectangle2.perimeter()) # Output: 18"
   ]
  },
  {
   "cell_type": "markdown",
   "id": "758769dc",
   "metadata": {},
   "source": [
    "In this example, `rectangle1` and `rectangle2` are objects created from the `Rectangle` class. They have their own unique `width` and `height` attributes, and you can call the `area()` and `perimeter()` methods on each object to perform calculations specific to that object."
   ]
  },
  {
   "cell_type": "markdown",
   "id": "84103ce4",
   "metadata": {},
   "source": [
    "### 4. What are attributes and methods in a class?"
   ]
  },
  {
   "cell_type": "markdown",
   "id": "d0183766",
   "metadata": {},
   "source": [
    "In a class, attributes and methods are the two main components that define its structure and behavior:\n",
    "\n",
    "1. Attributes: Attributes are variables that hold data associated with a class or its objects. They represent the characteristics or properties of the class or its instances. Attributes can store various types of data, such as numbers, strings, or even other objects. Each object created from the class has its own copy of the attributes. Attributes are accessed using dot notation, i.e., `<object>.<attribute>`. In Python, attributes are typically defined within the class's methods, especially the special `__init__` method, which is the constructor method for initializing object attributes.\n",
    "\n",
    "2. Methods: Methods are functions defined within a class that perform specific actions or provide specific functionality related to the class or its objects. They define the behavior of the class or its instances. Methods can access and modify the attributes of an object. They are defined using the `def` keyword, followed by the method name and a set of parentheses that can contain parameters. The first parameter of a method is conventionally named `self`, which refers to the object on which the method is called. Methods are accessed using dot notation, i.e., `<object>.<method>()`. They can also return values or perform operations without returning anything.\n",
    "\n",
    "Here's an example that illustrates attributes and methods within a class:"
   ]
  },
  {
   "cell_type": "code",
   "execution_count": 8,
   "id": "6a61610d",
   "metadata": {},
   "outputs": [],
   "source": [
    "class Circle:\n",
    "    def __init__(self, radius):\n",
    "        self.radius = radius\n",
    "\n",
    "    def area(self):\n",
    "        return 3.14 * self.radius ** 2\n",
    "\n",
    "    def circumference(self):\n",
    "        return 2 * 3.14 * self.radius"
   ]
  },
  {
   "cell_type": "markdown",
   "id": "e9cae25c",
   "metadata": {},
   "source": [
    "In this example, the `Circle` class has an attribute `radius` that represents the radius of a circle. It also has two methods, `area()` and `circumference()`, which calculate the area and circumference of the circle, respectively. The `self` parameter is used to refer to the object itself within the methods.\n",
    "\n",
    "To create an object from the class and access its attributes and methods, you can do the following:"
   ]
  },
  {
   "cell_type": "code",
   "execution_count": null,
   "id": "f6b3403b",
   "metadata": {},
   "outputs": [],
   "source": [
    "# Creating an object of the Circle class\n",
    "circle = Circle(5)\n",
    "\n",
    "# Accessing object attribute\n",
    "print(circle.radius)  # Output: 5\n",
    "\n",
    "# Calling object methods\n",
    "print(circle.area())          # Output: 78.5\n",
    "print(circle.circumference()) # Output: 31.4"
   ]
  },
  {
   "cell_type": "markdown",
   "id": "1dceddc2",
   "metadata": {},
   "source": [
    "In this example, `circle` is an object created from the `Circle` class. It has its own `radius` attribute, which can be accessed using dot notation. The methods `area()` and `circumference()` can be called on the `circle` object to perform calculations specific to that object."
   ]
  },
  {
   "cell_type": "markdown",
   "id": "946b738c",
   "metadata": {},
   "source": [
    "### 5. What is the difference between class variables and instance variables in Python?"
   ]
  },
  {
   "cell_type": "markdown",
   "id": "3cdc6e65",
   "metadata": {},
   "source": [
    "In Python, class variables and instance variables are two types of variables that serve different purposes in the context of classes:\n",
    "\n",
    "1. Class Variables: Class variables are variables that are defined within a class but outside any class methods. They are shared among all instances (objects) of the class. Class variables are typically used to store data that is common to all instances of the class. They are declared and initialized at the class level and are accessible using the class name or any instance of the class. If a class variable is modified, the change will be reflected in all instances of the class. Class variables are defined outside any method and are typically placed at the beginning of the class definition.\n",
    "\n",
    "Here's an example illustrating a class variable:"
   ]
  },
  {
   "cell_type": "code",
   "execution_count": 1,
   "id": "fc96a2cc",
   "metadata": {},
   "outputs": [],
   "source": [
    "class Car:\n",
    "    wheels = 4  # Class variable\n",
    "\n",
    "    def __init__(self, color):\n",
    "        self.color = color  # Instance variable"
   ]
  },
  {
   "cell_type": "markdown",
   "id": "e9705a6d",
   "metadata": {},
   "source": [
    "In this example, the `wheels` variable is a class variable, and its value is shared among all instances of the `Car` class. The `color` variable, on the other hand, is an instance variable, and its value can be unique for each instance of the class.\n",
    "\n",
    "2. Instance Variables: Instance variables are variables that are unique to each instance (object) of a class. They are defined within the class methods, usually within the `__init__` method, and are prefixed with the `self` keyword. Each instance of the class has its own copy of instance variables, and they hold data specific to that particular instance. Instance variables are accessed and modified using the `self` keyword within class methods.\n",
    "\n",
    "Continuing from the previous example, the `color` variable in the `__init__` method is an instance variable. Each instance of the `Car` class can have its own `color` value.\n",
    "\n"
   ]
  },
  {
   "cell_type": "code",
   "execution_count": 2,
   "id": "f344ebe8",
   "metadata": {},
   "outputs": [
    {
     "name": "stdout",
     "output_type": "stream",
     "text": [
      "4\n",
      "Red\n",
      "Blue\n"
     ]
    }
   ],
   "source": [
    "# Creating objects of the Car class\n",
    "car1 = Car(\"Red\")\n",
    "car2 = Car(\"Blue\")\n",
    "\n",
    "# Accessing class variable\n",
    "print(Car.wheels)  # Output: 4\n",
    "\n",
    "# Accessing instance variables\n",
    "print(car1.color)  # Output: Red\n",
    "print(car2.color)  # Output: Blue"
   ]
  },
  {
   "cell_type": "markdown",
   "id": "25b9722d",
   "metadata": {},
   "source": [
    "In this example, `wheels` is a class variable and can be accessed using the class name `Car`. The `color` variable is an instance variable and can be accessed using dot notation with each instance of the `Car` class (`car1.color`, `car2.color`). Each instance has its own `color` value, while the `wheels` value is shared among all instances.\n",
    "\n",
    "To summarize, class variables are shared among all instances of a class and hold data common to the class, while instance variables are specific to each instance and hold data unique to that instance."
   ]
  },
  {
   "cell_type": "markdown",
   "id": "ac1da684",
   "metadata": {},
   "source": [
    "### 6. What is the purpose of the self parameter in Python class methods?"
   ]
  },
  {
   "cell_type": "markdown",
   "id": "6854ea62",
   "metadata": {},
   "source": [
    "In Python class methods, the `self` parameter serves as a reference to the instance (object) of the class on which the method is being called. It is a convention to name the first parameter of a class method as `self`, although you can use any valid variable name.\n",
    "\n",
    "The purpose of the `self` parameter is to allow access to the attributes and methods of the instance within the method. It provides a way for methods to refer to and operate on the specific instance variables and other instance-related data.\n",
    "\n",
    "When a method is called on an instance of a class, the instance itself is automatically passed as the first argument to the method. By convention, this first parameter is named `self`, indicating that it refers to the instance itself. However, when calling the method, you do not explicitly pass any value for `self`. It is automatically handled by Python.\n",
    "\n",
    "Here's an example to illustrate the use of the `self` parameter in a class method:\n"
   ]
  },
  {
   "cell_type": "code",
   "execution_count": 5,
   "id": "430ac4de",
   "metadata": {},
   "outputs": [
    {
     "name": "stdout",
     "output_type": "stream",
     "text": [
      "Hello, my name is Mahesh.\n"
     ]
    }
   ],
   "source": [
    "class Person:\n",
    "    def __init__(self, name):\n",
    "        self.name = name\n",
    "\n",
    "    def say_hello(self):\n",
    "        print(f\"Hello, my name is {self.name}.\")\n",
    "\n",
    "# Creating an object of the Person class\n",
    "person = Person(\"Mahesh\")\n",
    "\n",
    "# Calling the say_hello() method on the person object\n",
    "person.say_hello()  # Output: Hello, my name is Mahesh."
   ]
  },
  {
   "cell_type": "markdown",
   "id": "d9e70629",
   "metadata": {},
   "source": [
    "In this example, the `Person` class has an `__init__` method (constructor) and a `say_hello` method. The `__init__` method initializes the `name` attribute of the instance, and the `say_hello` method prints a greeting using the `name` attribute.\n",
    "\n",
    "When calling `person.say_hello()`, the `self` parameter inside the `say_hello` method refers to the `person` object itself. It allows accessing the `name` attribute of the `person` object using `self.name`.\n",
    "\n",
    "By using the `self` parameter, class methods can work with instance-specific data and perform operations based on the state of the particular instance they are called on. It enables the interaction and manipulation of object attributes and methods within the class."
   ]
  },
  {
   "cell_type": "markdown",
   "id": "43a47d00",
   "metadata": {},
   "source": [
    "### 7. For a library management system, you have to design the \"Book\" class with OOP principles in mind. The “Book” class will have following attributes:\n",
    "### a. title: Represents the title of the book.\n",
    "### b. author: Represents the author(s) of the book.\n",
    "### c. isbn: Represents the ISBN (International Standard Book Number) of the book.\n",
    "### d. publication_year: Represents the year of publication of the book.\n",
    "### e. available_copies: Represents the number of copies available for checkout.\n",
    "### The class will also include the following methods:\n",
    "### a. check_out(self): Decrements the available copies by one if there are copies\n",
    "### available for checkout.\n",
    "### b. return_book(self): Increments the available copies by one when a book is returned.\n",
    "### c. display_book_info(self): Displays the information about the book, including its attributes and the number of available copies."
   ]
  },
  {
   "cell_type": "markdown",
   "id": "694c5975",
   "metadata": {},
   "source": [
    "Here's an example of the \"Book\" class design that incorporates the mentioned attributes and methods using OOP principles:"
   ]
  },
  {
   "cell_type": "code",
   "execution_count": 7,
   "id": "0330f2dd",
   "metadata": {},
   "outputs": [
    {
     "name": "stdout",
     "output_type": "stream",
     "text": [
      "Book Information:\n",
      "Title: The Great Gatsby\n",
      "Author(s): F. Scott Fitzgerald\n",
      "ISBN: 978-3-16-148410-0\n",
      "Publication Year: 1925\n",
      "Available Copies: 3\n",
      "The book 'The Great Gatsby' has been checked out.\n",
      "The book 'The Great Gatsby' has been returned.\n",
      "The book 'The Great Gatsby' has been checked out.\n",
      "Book Information:\n",
      "Title: The Great Gatsby\n",
      "Author(s): F. Scott Fitzgerald\n",
      "ISBN: 978-3-16-148410-0\n",
      "Publication Year: 1925\n",
      "Available Copies: 2\n"
     ]
    }
   ],
   "source": [
    "class Book:\n",
    "    def __init__(self, title, author, isbn, publication_year, available_copies):\n",
    "        self.title = title\n",
    "        self.author = author\n",
    "        self.isbn = isbn\n",
    "        self.publication_year = publication_year\n",
    "        self.available_copies = available_copies\n",
    "\n",
    "    def check_out(self):\n",
    "        if self.available_copies > 0:\n",
    "            self.available_copies -= 1\n",
    "            print(f\"The book '{self.title}' has been checked out.\")\n",
    "        else:\n",
    "            print(f\"Sorry, '{self.title}' is currently unavailable.\")\n",
    "\n",
    "    def return_book(self):\n",
    "        self.available_copies += 1\n",
    "        print(f\"The book '{self.title}' has been returned.\")\n",
    "\n",
    "    def display_book_info(self):\n",
    "        print(\"Book Information:\")\n",
    "        print(f\"Title: {self.title}\")\n",
    "        print(f\"Author(s): {self.author}\")\n",
    "        print(f\"ISBN: {self.isbn}\")\n",
    "        print(f\"Publication Year: {self.publication_year}\")\n",
    "        print(f\"Available Copies: {self.available_copies}\")\n",
    "\n",
    "\n",
    "# Example usage of the Book class\n",
    "book1 = Book(\"The Great Gatsby\", \"F. Scott Fitzgerald\", \"978-3-16-148410-0\", 1925, 3)\n",
    "book1.display_book_info()  # Display book information\n",
    "book1.check_out()          # Check out the book\n",
    "book1.return_book()        # Return the book\n",
    "book1.check_out()          # Check out the book again\n",
    "book1.display_book_info()  # Display updated book information"
   ]
  },
  {
   "cell_type": "markdown",
   "id": "ff00a6ef",
   "metadata": {},
   "source": [
    "In this example, the `Book` class is designed with the specified attributes (`title`, `author`, `isbn`, `publication_year`, and `available_copies`) and the required methods (`check_out()`, `return_book()`, and `display_book_info()`).\n",
    "\n",
    "The `__init__` method is the constructor and is responsible for initializing the attributes of a book object. The `check_out()` method checks if there are available copies and decrements the `available_copies` attribute if there are. The `return_book()` method increments the `available_copies` attribute when a book is returned. The `display_book_info()` method prints the book's attributes and the number of available copies.\n",
    "\n",
    "You can create instances of the `Book` class and use the defined methods to interact with book objects, such as checking out books, returning books, and displaying their information."
   ]
  },
  {
   "cell_type": "markdown",
   "id": "fee5a95e",
   "metadata": {},
   "source": [
    "### 8. For a ticket booking system, you have to design the \"Ticket\" class with OOP principles in mind. The “Ticket” class should have the following attributes:\n",
    "### a. ticket_id: Represents the unique identifier for the ticket.\n",
    "### b. event_name: Represents the name of the event.\n",
    "### c. event_date: Represents the date of the event.\n",
    "### d. venue: Represents the venue of the event.\n",
    "### e. seat_number: Represents the seat number associated with the ticket.\n",
    "### f. price: Represents the price of the ticket.\n",
    "### g. is_reserved: Represents the reservation status of the ticket. \n",
    "### The class also includes the following methods:\n",
    "### a. reserve_ticket(self): Marks the ticket as reserved if it is not already reserved.\n",
    "### b. cancel_reservation(self): Cancels the reservation of the ticket if it is already reserved.\n",
    "### c. display_ticket_info(self): Displays the information about the ticket, including its\n",
    "### attributes and reservation status."
   ]
  },
  {
   "cell_type": "markdown",
   "id": "d91b4b04",
   "metadata": {},
   "source": [
    "Here's an example of the \"Ticket\" class design that incorporates the mentioned attributes and methods using OOP principles:"
   ]
  },
  {
   "cell_type": "code",
   "execution_count": 8,
   "id": "f5a6db7a",
   "metadata": {},
   "outputs": [
    {
     "name": "stdout",
     "output_type": "stream",
     "text": [
      "Ticket Information:\n",
      "Ticket ID: T001\n",
      "Event Name: Concert\n",
      "Event Date: 2023-07-10\n",
      "Venue: ABC Stadium\n",
      "Seat Number: A12\n",
      "Price: 50.0\n",
      "Reservation Status: Not Reserved\n",
      "Ticket reserved.\n",
      "Reservation canceled.\n",
      "Ticket reserved.\n",
      "Ticket Information:\n",
      "Ticket ID: T001\n",
      "Event Name: Concert\n",
      "Event Date: 2023-07-10\n",
      "Venue: ABC Stadium\n",
      "Seat Number: A12\n",
      "Price: 50.0\n",
      "Reservation Status: Reserved\n"
     ]
    }
   ],
   "source": [
    "class Ticket:\n",
    "    def __init__(self, ticket_id, event_name, event_date, venue, seat_number, price):\n",
    "        self.ticket_id = ticket_id\n",
    "        self.event_name = event_name\n",
    "        self.event_date = event_date\n",
    "        self.venue = venue\n",
    "        self.seat_number = seat_number\n",
    "        self.price = price\n",
    "        self.is_reserved = False\n",
    "\n",
    "    def reserve_ticket(self):\n",
    "        if not self.is_reserved:\n",
    "            self.is_reserved = True\n",
    "            print(\"Ticket reserved.\")\n",
    "        else:\n",
    "            print(\"Ticket is already reserved.\")\n",
    "\n",
    "    def cancel_reservation(self):\n",
    "        if self.is_reserved:\n",
    "            self.is_reserved = False\n",
    "            print(\"Reservation canceled.\")\n",
    "        else:\n",
    "            print(\"Ticket is not reserved.\")\n",
    "\n",
    "    def display_ticket_info(self):\n",
    "        print(\"Ticket Information:\")\n",
    "        print(f\"Ticket ID: {self.ticket_id}\")\n",
    "        print(f\"Event Name: {self.event_name}\")\n",
    "        print(f\"Event Date: {self.event_date}\")\n",
    "        print(f\"Venue: {self.venue}\")\n",
    "        print(f\"Seat Number: {self.seat_number}\")\n",
    "        print(f\"Price: {self.price}\")\n",
    "        print(f\"Reservation Status: {'Reserved' if self.is_reserved else 'Not Reserved'}\")\n",
    "\n",
    "\n",
    "# Example usage of the Ticket class\n",
    "ticket1 = Ticket(\"T001\", \"Concert\", \"2023-07-10\", \"ABC Stadium\", \"A12\", 50.0)\n",
    "ticket1.display_ticket_info()    # Display ticket information\n",
    "ticket1.reserve_ticket()         # Reserve the ticket\n",
    "ticket1.cancel_reservation()     # Cancel the reservation\n",
    "ticket1.reserve_ticket()         # Reserve the ticket again\n",
    "ticket1.display_ticket_info()    # Display updated ticket information"
   ]
  },
  {
   "cell_type": "markdown",
   "id": "750e5683",
   "metadata": {},
   "source": [
    "In this example, the `Ticket` class is designed with the specified attributes (`ticket_id`, `event_name`, `event_date`, `venue`, `seat_number`, `price`, and `is_reserved`) and the required methods (`reserve_ticket()`, `cancel_reservation()`, and `display_ticket_info()`).\n",
    "\n",
    "The `__init__` method is the constructor and is responsible for initializing the attributes of a ticket object. The `reserve_ticket()` method marks the ticket as reserved if it is not already reserved. The `cancel_reservation()` method cancels the reservation of the ticket if it is already reserved. The `display_ticket_info()` method prints the ticket's attributes, including the reservation status.\n",
    "\n",
    "You can create instances of the `Ticket` class and use the defined methods to interact with ticket objects, such as reserving tickets, canceling reservations, and displaying their information."
   ]
  },
  {
   "cell_type": "markdown",
   "id": "49bc5800",
   "metadata": {},
   "source": [
    "### 9. You are creating a shopping cart for an e-commerce website. Using OOP to model\n",
    "### the \"ShoppingCart\" functionality the class should contain following attributes and methods:\n",
    "### a. items: Represents the list of items in the shopping cart.\n",
    "### The class also includes the following methods:\n",
    "### a. add_item(self, item): Adds an item to the shopping cart by appending it to the\n",
    "### list of items.\n",
    "### b. remove_item(self, item): Removes an item from the shopping cart if it exists in the list.\n",
    "### c. view_cart(self): Displays the items currently present in the shopping cart.\n",
    "### d. clear_cart(self): Clears all items from the shopping cart by reassigning an empty list to the items attribute"
   ]
  },
  {
   "cell_type": "markdown",
   "id": "cf199558",
   "metadata": {},
   "source": [
    "Here's an example of the \"ShoppingCart\" class design that incorporates the mentioned attributes and methods using OOP principles:"
   ]
  },
  {
   "cell_type": "code",
   "execution_count": 10,
   "id": "e56be9b8",
   "metadata": {},
   "outputs": [
    {
     "name": "stdout",
     "output_type": "stream",
     "text": [
      "Item 'Shirt' added to the shopping cart.\n",
      "Item 'Pants' added to the shopping cart.\n",
      "Items in the shopping cart:\n",
      "Shirt\n",
      "Pants\n",
      "Item 'Shirt' removed from the shopping cart.\n",
      "Item 'Socks' is not in the shopping cart.\n",
      "Items in the shopping cart:\n",
      "Pants\n",
      "Shopping cart cleared.\n",
      "Items in the shopping cart:\n",
      "The shopping cart is empty.\n"
     ]
    }
   ],
   "source": [
    "class ShoppingCart:\n",
    "    def __init__(self):\n",
    "        self.items = []\n",
    "\n",
    "    def add_item(self, item):\n",
    "        self.items.append(item)\n",
    "        print(f\"Item '{item}' added to the shopping cart.\")\n",
    "\n",
    "    def remove_item(self, item):\n",
    "        if item in self.items:\n",
    "            self.items.remove(item)\n",
    "            print(f\"Item '{item}' removed from the shopping cart.\")\n",
    "        else:\n",
    "            print(f\"Item '{item}' is not in the shopping cart.\")\n",
    "\n",
    "    def view_cart(self):\n",
    "        print(\"Items in the shopping cart:\")\n",
    "        if self.items:\n",
    "            for item in self.items:\n",
    "                print(item)\n",
    "        else:\n",
    "            print(\"The shopping cart is empty.\")\n",
    "\n",
    "    def clear_cart(self):\n",
    "        self.items = []\n",
    "        print(\"Shopping cart cleared.\")\n",
    "\n",
    "\n",
    "# Example usage of the ShoppingCart class\n",
    "cart = ShoppingCart()\n",
    "cart.add_item(\"Shirt\")\n",
    "cart.add_item(\"Pants\")\n",
    "cart.view_cart()        # View the items in the cart\n",
    "cart.remove_item(\"Shirt\")\n",
    "cart.remove_item(\"Socks\")  # Trying to remove an item that doesn't exist\n",
    "cart.view_cart()        # View the updated cart\n",
    "cart.clear_cart()       # Clear the cart\n",
    "cart.view_cart()        # View the cleared cart"
   ]
  },
  {
   "cell_type": "markdown",
   "id": "51b7f53c",
   "metadata": {},
   "source": [
    "In this example, the `ShoppingCart` class is designed with the specified attribute (`items`) and the required methods (`add_item()`, `remove_item()`, `view_cart()`, and `clear_cart()`).\n",
    "\n",
    "The `__init__` method is the constructor and initializes the `items` attribute as an empty list. The `add_item()` method adds an item to the shopping cart by appending it to the `items` list. The `remove_item()` method removes an item from the shopping cart if it exists in the `items` list. The `view_cart()` method displays the items currently present in the shopping cart. The `clear_cart()` method clears all items from the shopping cart by reassigning an empty list to the `items` attribute.\n",
    "\n",
    "You can create an instance of the `ShoppingCart` class and use the defined methods to interact with the shopping cart, such as adding items, removing items, viewing the cart contents, and clearing the cart."
   ]
  },
  {
   "cell_type": "markdown",
   "id": "c77134d1",
   "metadata": {},
   "source": [
    "### 10. Imagine a school management system. You have to design the \"Student\" class using OOP concepts.The “Student” class has the following attributes:\n",
    "### a. name: Represents the name of the student.\n",
    "### b. age: Represents the age of the student.\n",
    "### c. grade: Represents the grade or class of the student.\n",
    "### d. student_id: Represents the unique identifier for the student.\n",
    "### e. attendance: Represents the attendance record of the student.\n",
    "### The class should also include the following methods:\n",
    "### a. update_attendance(self, date, status): Updates the attendance record of the\n",
    "### student for a given date with the provided status (e.g., present or absent).\n",
    "### b. get_attendance(self): Returns the attendance record of the student.\n",
    "### c. get_average_attendance(self): Calculates and returns the average attendance percentage of the student based on their attendance record."
   ]
  },
  {
   "cell_type": "markdown",
   "id": "a8579dde",
   "metadata": {},
   "source": [
    "Here's an example of the \"Student\" class design that incorporates the mentioned attributes and methods using OOP principles:"
   ]
  },
  {
   "cell_type": "code",
   "execution_count": 11,
   "id": "0531e7ed",
   "metadata": {},
   "outputs": [
    {
     "name": "stdout",
     "output_type": "stream",
     "text": [
      "Attendance updated for 2023-07-01. Status: present\n",
      "Attendance updated for 2023-07-02. Status: absent\n",
      "Attendance updated for 2023-07-03. Status: present\n",
      "Attendance Record:\n",
      "2023-07-01: present\n",
      "2023-07-02: absent\n",
      "2023-07-03: present\n",
      "Average Attendance: 66.66666666666666%\n"
     ]
    }
   ],
   "source": [
    "class Student:\n",
    "    def __init__(self, name, age, grade, student_id):\n",
    "        self.name = name\n",
    "        self.age = age\n",
    "        self.grade = grade\n",
    "        self.student_id = student_id\n",
    "        self.attendance = {}\n",
    "\n",
    "    def update_attendance(self, date, status):\n",
    "        self.attendance[date] = status\n",
    "        print(f\"Attendance updated for {date}. Status: {status}\")\n",
    "\n",
    "    def get_attendance(self):\n",
    "        return self.attendance\n",
    "\n",
    "    def get_average_attendance(self):\n",
    "        total_days = len(self.attendance)\n",
    "        present_days = sum(status == 'present' for status in self.attendance.values())\n",
    "        if total_days > 0:\n",
    "            average_attendance = (present_days / total_days) * 100\n",
    "            return average_attendance\n",
    "        else:\n",
    "            return 0\n",
    "\n",
    "\n",
    "# Example usage of the Student class\n",
    "student1 = Student(\"Alice\", 15, \"10th Grade\", \"S001\")\n",
    "student1.update_attendance(\"2023-07-01\", \"present\")\n",
    "student1.update_attendance(\"2023-07-02\", \"absent\")\n",
    "student1.update_attendance(\"2023-07-03\", \"present\")\n",
    "attendance_record = student1.get_attendance()\n",
    "print(\"Attendance Record:\")\n",
    "for date, status in attendance_record.items():\n",
    "    print(f\"{date}: {status}\")\n",
    "average_attendance = student1.get_average_attendance()\n",
    "print(f\"Average Attendance: {average_attendance}%\")"
   ]
  },
  {
   "cell_type": "markdown",
   "id": "f5ed3a74",
   "metadata": {},
   "source": [
    "In this example, the `Student` class is designed with the specified attributes (`name`, `age`, `grade`, `student_id`, and `attendance`) and the required methods (`update_attendance()`, `get_attendance()`, and `get_average_attendance()`).\n",
    "\n",
    "The `__init__` method is the constructor and initializes the attributes of a student object, including the attendance record as an empty dictionary. The `update_attendance()` method updates the attendance record of the student for a given date with the provided status. The `get_attendance()` method returns the attendance record of the student. The `get_average_attendance()` method calculates and returns the average attendance percentage of the student based on their attendance record.\n",
    "\n",
    "You can create instances of the `Student` class and use the defined methods to interact with student objects, such as updating their attendance, retrieving the attendance record, and calculating the average attendance percentage."
   ]
  }
 ],
 "metadata": {
  "kernelspec": {
   "display_name": "Python 3 (ipykernel)",
   "language": "python",
   "name": "python3"
  },
  "language_info": {
   "codemirror_mode": {
    "name": "ipython",
    "version": 3
   },
   "file_extension": ".py",
   "mimetype": "text/x-python",
   "name": "python",
   "nbconvert_exporter": "python",
   "pygments_lexer": "ipython3",
   "version": "3.9.12"
  }
 },
 "nbformat": 4,
 "nbformat_minor": 5
}
