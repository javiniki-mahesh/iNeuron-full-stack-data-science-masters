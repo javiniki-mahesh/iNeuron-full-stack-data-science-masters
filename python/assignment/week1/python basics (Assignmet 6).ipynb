{
 "cells": [
  {
   "cell_type": "markdown",
   "id": "e7f1d752",
   "metadata": {},
   "source": [
    "# Python assignmet 6"
   ]
  },
  {
   "cell_type": "markdown",
   "id": "9db74e04",
   "metadata": {},
   "source": [
    "## Q.1. What are keywords in python? Using the keyword library, print all the python keywords."
   ]
  },
  {
   "cell_type": "markdown",
   "id": "0dc819af",
   "metadata": {},
   "source": [
    "In Python, keywords are reserved words that have special meanings and purposes within the language. These keywords cannot be used as variable names or identifiers because they are already predefined and used by Python for specific operations or statements.\n",
    "\n",
    "You can access the list of Python keywords using the `keyword` library. Here's an example of how you can print all the Python keywords:"
   ]
  },
  {
   "cell_type": "code",
   "execution_count": 6,
   "id": "4dbd8411",
   "metadata": {
    "scrolled": true
   },
   "outputs": [
    {
     "name": "stdout",
     "output_type": "stream",
     "text": [
      "['False', 'None', 'True', '__peg_parser__', 'and', 'as', 'assert', 'async', 'await', 'break', 'class', 'continue', 'def', 'del', 'elif', 'else', 'except', 'finally', 'for', 'from', 'global', 'if', 'import', 'in', 'is', 'lambda', 'nonlocal', 'not', 'or', 'pass', 'raise', 'return', 'try', 'while', 'with', 'yield']\n"
     ]
    }
   ],
   "source": [
    "import keyword\n",
    "\n",
    "all_keywords = keyword.kwlist\n",
    "print(all_keywords)"
   ]
  },
  {
   "cell_type": "markdown",
   "id": "b09541a6",
   "metadata": {},
   "source": [
    "These keywords are an integral part of the Python language, and they serve specific purposes in defining the syntax and structure of your Python code."
   ]
  },
  {
   "cell_type": "markdown",
   "id": "e7a6a9e1",
   "metadata": {},
   "source": [
    "## Q.2. What are the rules to create variables in python?"
   ]
  },
  {
   "cell_type": "markdown",
   "id": "acfa46fc",
   "metadata": {},
   "source": [
    "In Python, variables are used to store and manipulate data. Here are the rules to create variables in Python:\n",
    "\n",
    "Variable Names:\n",
    "\n",
    "    Variable names can contain letters (a-z, A-Z), digits (0-9), and underscores (_).\n",
    "    The first character of a variable name cannot be a digit.\n",
    "    Variable names are case-sensitive, so myVar and myvar are considered different variables.\n",
    "    Python reserves a set of keywords that cannot be used as variable names (e.g., if, for, while, etc.).\n",
    "It is recommended to use descriptive names that indicate the purpose or meaning of the variable."
   ]
  },
  {
   "cell_type": "code",
   "execution_count": 10,
   "id": "5b8fcea7",
   "metadata": {},
   "outputs": [
    {
     "name": "stdout",
     "output_type": "stream",
     "text": [
      "42\n",
      "54\n",
      "89\n"
     ]
    }
   ],
   "source": [
    "# Example\n",
    "\n",
    "var1 = 42\n",
    "_var = 54\n",
    "var = 89\n",
    "print(var1, _var, var, sep = '\\n')"
   ]
  },
  {
   "cell_type": "code",
   "execution_count": 14,
   "id": "bae52d32",
   "metadata": {},
   "outputs": [],
   "source": [
    "# keywords that cannot be used as variable names (e.g., if, for, while, etc.).\n",
    "# for = 5 \n",
    "#   Input In [11]\n",
    "#     for = 5\n",
    "#         ^\n",
    "# SyntaxError: invalid syntax"
   ]
  },
  {
   "cell_type": "markdown",
   "id": "16dfae13",
   "metadata": {},
   "source": [
    "## Q.3. What are the standards and conventions followed for the nomenclature of variables in python to improve code readability and maintainability?"
   ]
  },
  {
   "cell_type": "markdown",
   "id": "d1f3abfc",
   "metadata": {},
   "source": [
    "In Python, there are several standards and conventions followed for naming variables to improve code readability and maintainability. These conventions are outlined in PEP 8, which is the official style guide for Python code. Here are some key points from PEP 8 regarding variable naming:\n",
    "\n",
    "1. Naming Style:\n",
    "   - Use lowercase letters for variable names.\n",
    "   - Separate words in a variable name using underscores (`snake_case`). For example: `my_variable`.\n",
    "   - Avoid using uppercase letters, except for constants (e.g., `MAX_SIZE`).\n",
    "\n",
    "2. Descriptive and Meaningful Names:\n",
    "   - Choose variable names that are descriptive and indicate the purpose or meaning of the variable.\n",
    "   - Use meaningful names that make it easier to understand the code.\n",
    "   - Avoid using single-character variable names (except in specific cases like iterators or counters).\n",
    "\n",
    "3. Avoid Reserved Words:\n",
    "   - Do not use Python keywords and reserved words as variable names.\n",
    "   - Ensure your variable names do not clash with built-in functions or modules.\n",
    "\n",
    "4. Consistency:\n",
    "   - Be consistent in naming variables throughout your codebase.\n",
    "   - Follow the same naming conventions and styles consistently to enhance code readability.\n"
   ]
  },
  {
   "cell_type": "code",
   "execution_count": 17,
   "id": "87743b80",
   "metadata": {},
   "outputs": [],
   "source": [
    "# Here are some examples of variable names following these conventions:\n",
    "\n",
    "first_name = \"John\"\n",
    "age = 25\n",
    "total_amount = 100.50\n",
    "is_valid = True\n",
    "max_retries = 3\n"
   ]
  },
  {
   "cell_type": "markdown",
   "id": "7aef09f9",
   "metadata": {},
   "source": [
    "    By following these standards and conventions, your code will be more readable, maintainable, and easier to understand by other developers. adhering to these guidelines also helps in maintaining a consistent coding style across projects."
   ]
  },
  {
   "cell_type": "markdown",
   "id": "f8c7e109",
   "metadata": {},
   "source": [
    "## Q.4. What will happen if a keyword is used as a variable name"
   ]
  },
  {
   "cell_type": "markdown",
   "id": "fabf56c1",
   "metadata": {},
   "source": [
    "If you use a keyword as a variable name in Python, it will result in a syntax error. Keywords are reserved and have special meanings in the language, so they cannot be used as identifiers or variable names.\n",
    "\n",
    "    Let's consider an example where we try to use the keyword `if` as a variable name:\n"
   ]
  },
  {
   "cell_type": "code",
   "execution_count": 25,
   "id": "beb2fb3b",
   "metadata": {},
   "outputs": [
    {
     "ename": "SyntaxError",
     "evalue": "invalid syntax (182722112.py, line 1)",
     "output_type": "error",
     "traceback": [
      "\u001b[1;36m  Input \u001b[1;32mIn [25]\u001b[1;36m\u001b[0m\n\u001b[1;33m    if = 10\u001b[0m\n\u001b[1;37m       ^\u001b[0m\n\u001b[1;31mSyntaxError\u001b[0m\u001b[1;31m:\u001b[0m invalid syntax\n"
     ]
    }
   ],
   "source": [
    "if = 10"
   ]
  },
  {
   "cell_type": "markdown",
   "id": "e23a7083",
   "metadata": {},
   "source": [
    "\n",
    "Python's syntax parser detects the use of a keyword as a variable name and raises an error because it violates the language rules.\n",
    "\n",
    "To avoid such errors, it is essential to choose appropriate variable names that do not conflict with Python's keywords. If you need a variable with a similar name to a keyword, you can consider adding an underscore or using synonyms to make it a valid identifier."
   ]
  },
  {
   "cell_type": "markdown",
   "id": "bfa18243",
   "metadata": {},
   "source": [
    "## Q.5. For what purpose def keyword is used?"
   ]
  },
  {
   "cell_type": "markdown",
   "id": "6de6498a",
   "metadata": {},
   "source": [
    "The `def` keyword in Python is used to define user-defined functions. Functions are blocks of reusable code that perform a specific task. By using the `def` keyword, you can create functions and give them a name that can be used to call and execute the code within the function.\n",
    "\n",
    "Here's the general syntax for defining a function using the `def` keyword:\n"
   ]
  },
  {
   "cell_type": "code",
   "execution_count": 29,
   "id": "73f89179",
   "metadata": {},
   "outputs": [],
   "source": [
    "def function_name(parameters):\n",
    "    pass\n",
    "    # Code block\n",
    "    # Perform actions\n",
    "    # Optionally return a value\n",
    "    "
   ]
  },
  {
   "cell_type": "markdown",
   "id": "6779a791",
   "metadata": {},
   "source": [
    "\n",
    "Let's break down the components of the function definition:\n",
    "\n",
    "- `def`: This keyword is used to declare that you are defining a function.\n",
    "- `function_name`: This is the name you choose to give your function. It should follow the same naming conventions as variables.\n",
    "- `parameters`: These are optional input values that you can pass to the function. They are enclosed in parentheses and can be used within the function's code block.\n",
    "- `code block`: This is the indented block of code that defines the actions and logic of the function.\n",
    "- `return`: This keyword is used to specify the value that the function should return (if any). It is optional, and if omitted, the function will return `None` by default.\n",
    "\n",
    "Here's an example of a function that adds two numbers:\n"
   ]
  },
  {
   "cell_type": "code",
   "execution_count": 31,
   "id": "002ebee7",
   "metadata": {},
   "outputs": [],
   "source": [
    "def add_numbers(a, b):\n",
    "    sum = a + b\n",
    "    return sum"
   ]
  },
  {
   "cell_type": "markdown",
   "id": "fadf4a00",
   "metadata": {},
   "source": [
    "In this example, the `def` keyword is used to define the `add_numbers` function that takes two parameters (`a` and `b`). It calculates the sum of `a` and `b`, stores it in the `sum` variable, and then returns the result using the `return` keyword.\n",
    "\n",
    "You can then call this function elsewhere in your code, passing the required arguments:\n"
   ]
  },
  {
   "cell_type": "code",
   "execution_count": 32,
   "id": "3113b1e6",
   "metadata": {},
   "outputs": [
    {
     "name": "stdout",
     "output_type": "stream",
     "text": [
      "8\n"
     ]
    }
   ],
   "source": [
    "result = add_numbers(3, 5)\n",
    "print(result)  # Output: 8"
   ]
  },
  {
   "cell_type": "markdown",
   "id": "546e53b9",
   "metadata": {},
   "source": [
    "The `def` keyword allows you to define and create custom functions in Python, enabling code reusability and modularity."
   ]
  },
  {
   "cell_type": "markdown",
   "id": "a1c57588",
   "metadata": {},
   "source": [
    "## Q.6. What is the operation of this special character ‘\\’?"
   ]
  },
  {
   "cell_type": "markdown",
   "id": "6661f108",
   "metadata": {},
   "source": [
    "The special character `'\\'`, called the backslash, serves as an escape character in Python. It is used to indicate that the character following it has a special meaning or should be interpreted differently. Here are some common use cases for the backslash:\n",
    "\n",
    "1. Escape Sequences:\n",
    "   - Backslash is used to introduce escape sequences that represent special characters within strings.\n",
    "   - For example, `'\\n'` represents a newline character, `'\\t'` represents a tab character, and `'\\\\\"'` represents a literal double quotation mark.\n",
    "   - Escape sequences allow you to include characters that are not easily typed or have special meanings within strings.\n",
    "\n",
    "2. Continuation of Long Lines:\n",
    "   - Backslash is used to indicate that a statement or expression continues on the next line.\n",
    "   - It is useful when you want to split a long line of code into multiple lines for improved readability.\n",
    "   - For example:\n"
   ]
  },
  {
   "cell_type": "code",
   "execution_count": 35,
   "id": "c1212d1b",
   "metadata": {},
   "outputs": [],
   "source": [
    " result = 10 + 20 + \\\n",
    "          30 + 40 + \\\n",
    "          50"
   ]
  },
  {
   "cell_type": "markdown",
   "id": "1c29e97f",
   "metadata": {},
   "source": [
    "\n",
    "3. Escaping Special Characters:\n",
    "   - Backslash is used to escape special characters that would otherwise have a special meaning within strings.\n",
    "   - For example, if you want to include a literal backslash or a single quotation mark within a string, you can use the backslash to escape them, like `'\\\\'` or `'\\''`.\n",
    "\n",
    "It's important to note that in some contexts, the backslash itself needs to be escaped by using another backslash. For example, to include a literal backslash in a regular expression, you would use `'\\\\\\\\'`.\n",
    "\n",
    "Overall, the backslash character `\\` plays a crucial role in handling special characters, escape sequences, and line continuation within Python code."
   ]
  },
  {
   "cell_type": "markdown",
   "id": "9aee311d",
   "metadata": {},
   "source": [
    "## Q.7. Give an example of the following conditions:\n",
    "## (i) Homogeneous list\n",
    "## (ii) Heterogeneous set\n",
    "## (iii) Homogeneous tuple"
   ]
  },
  {
   "cell_type": "markdown",
   "id": "acba4f19",
   "metadata": {},
   "source": [
    "Here are examples of the following conditions:\n",
    "\n",
    "(i) Homogeneous List:\n",
    "A homogeneous list is a list that contains elements of the same data type. Here's an example of a homogeneous list containing integers:\n",
    "\n",
    "```python\n",
    "numbers = [1, 2, 3, 4, 5]\n",
    "```\n",
    "\n",
    "In this example, the `numbers` list contains only integer values. All elements have the same data type, making it a homogeneous list.\n",
    "\n",
    "(ii) Heterogeneous Set:\n",
    "A heterogeneous set is a set that contains elements of different data types. Here's an example of a heterogeneous set:\n",
    "\n",
    "```python\n",
    "my_set = {1, \"hello\", 3.14, True}\n",
    "```\n",
    "\n",
    "In this example, the `my_set` set contains elements of various data types, including an integer (`1`), a string (`\"hello\"`), a float (`3.14`), and a boolean value (`True`). Since the elements have different data types, it is considered a heterogeneous set.\n",
    "\n",
    "(iii) Homogeneous Tuple:\n",
    "A homogeneous tuple is a tuple that contains elements of the same data type. Here's an example of a homogeneous tuple containing strings:\n",
    "\n",
    "```python\n",
    "fruits = (\"apple\", \"banana\", \"orange\", \"mango\")\n",
    "```\n",
    "\n",
    "In this example, the `fruits` tuple contains only string values. All elements have the same data type, making it a homogeneous tuple.\n",
    "\n",
    "Note: Lists, sets, and tuples in Python can be either homogeneous or heterogeneous, depending on the types of elements they contain. The examples provided above represent common scenarios for each case, but it's important to remember that these data structures can accommodate various types of elements based on your specific needs."
   ]
  },
  {
   "cell_type": "markdown",
   "id": "24d048c4",
   "metadata": {},
   "source": [
    "## Q.8. Explain the mutable and immutable data types with proper explanation & examples"
   ]
  },
  {
   "cell_type": "markdown",
   "id": "52aa2aab",
   "metadata": {},
   "source": [
    "In Python, data types can be classified as mutable or immutable based on whether their values can be changed after they are created. Here's an explanation of mutable and immutable data types:\n",
    "\n",
    "1. Mutable Data Types:\n",
    "   - Mutable data types are those whose values can be modified after they are created.\n",
    "   - When you modify a mutable object, the object itself is modified, and the same object is still referenced.\n",
    "   - Examples of mutable data types in Python include lists, dictionaries, and sets.\n"
   ]
  },
  {
   "cell_type": "code",
   "execution_count": 39,
   "id": "520c9cd6",
   "metadata": {},
   "outputs": [
    {
     "name": "stdout",
     "output_type": "stream",
     "text": [
      "[10, 2, 3]\n"
     ]
    }
   ],
   "source": [
    "# Example of a mutable data type (list)\n",
    "my_list = [1, 2, 3]\n",
    "my_list[0] = 10\n",
    "print(my_list)  # Output: [10, 2, 3]"
   ]
  },
  {
   "cell_type": "markdown",
   "id": "0c1f4232",
   "metadata": {},
   "source": [
    "\n",
    "   In the example above, the value at index 0 of the `my_list` list is modified from `1` to `10`. The list itself is modified, and the change is reflected when printing the list.\n",
    "\n",
    "2. Immutable Data Types:\n",
    "   - Immutable data types are those whose values cannot be changed after they are created.\n",
    "   - When you modify an immutable object, a new object is created with the modified value, and the original object remains unchanged.\n",
    "   - Examples of immutable data types in Python include integers, floats, strings, and tuples.\n"
   ]
  },
  {
   "cell_type": "code",
   "execution_count": 38,
   "id": "d82ef8ba",
   "metadata": {},
   "outputs": [
    {
     "name": "stdout",
     "output_type": "stream",
     "text": [
      "Hello\n",
      "Hello World\n"
     ]
    }
   ],
   "source": [
    "# Example of an immutable data type (string)\n",
    "my_string = \"Hello\"\n",
    "new_string = my_string + \" World\"\n",
    "print(my_string)  # Output: Hello\n",
    "print(new_string)  # Output: Hello World"
   ]
  },
  {
   "cell_type": "markdown",
   "id": "a33966c3",
   "metadata": {},
   "source": [
    "\n",
    "   In the example above, the `my_string` string is not modified directly. Instead, a new string is created by concatenating it with another string. The original string remains unchanged.\n",
    "\n",
    "Immutable data types provide certain advantages, such as immutability guarantees, ease of caching and sharing, and facilitating hashability (used in dictionaries and sets). Mutable data types, on the other hand, offer flexibility in modifying values directly.\n"
   ]
  },
  {
   "cell_type": "markdown",
   "id": "02f3f1df",
   "metadata": {},
   "source": [
    "## Q.9. Write a code to create the given structure using only for loop."
   ]
  },
  {
   "cell_type": "raw",
   "id": "1e4894ba",
   "metadata": {},
   "source": [
    "    *\n",
    "   ***\n",
    "  *****\n",
    " *******\n",
    "*********"
   ]
  },
  {
   "cell_type": "code",
   "execution_count": 61,
   "id": "03eea138",
   "metadata": {
    "scrolled": true
   },
   "outputs": [
    {
     "name": "stdout",
     "output_type": "stream",
     "text": [
      "Enter number: 5\n",
      "     *\n",
      "    ***\n",
      "   *****\n",
      "  *******\n",
      " *********\n"
     ]
    }
   ],
   "source": [
    "num = int(input('Enter number: '))\n",
    "count = 0\n",
    "for i in range(1,num+1):\n",
    "    print(' '*((num+1)-i),end = '')\n",
    "    print('*'*(i+count))\n",
    "    count+=1"
   ]
  },
  {
   "cell_type": "markdown",
   "id": "f9bee801",
   "metadata": {},
   "source": [
    "## Q.10. Write a code to create the given structure using while loop."
   ]
  },
  {
   "cell_type": "raw",
   "id": "08103234",
   "metadata": {},
   "source": [
    "|||||||||\n",
    " |||||||\n",
    "  |||||\n",
    "   |||\n",
    "    |"
   ]
  },
  {
   "cell_type": "code",
   "execution_count": 82,
   "id": "1dadacf4",
   "metadata": {},
   "outputs": [
    {
     "name": "stdout",
     "output_type": "stream",
     "text": [
      "|||||||||\n",
      " |||||||\n",
      "  |||||\n",
      "   |||\n",
      "    |\n",
      "     \n"
     ]
    }
   ],
   "source": [
    "# using while loop\n",
    "num = 5\n",
    "count = num - 1\n",
    "i = 0\n",
    "while i <= num:\n",
    "    print(' '*i,end = '')\n",
    "    print('|'*(num+count))\n",
    "    count-=2\n",
    "    i+=1"
   ]
  },
  {
   "cell_type": "code",
   "execution_count": 75,
   "id": "f0a8ec0f",
   "metadata": {},
   "outputs": [
    {
     "name": "stdout",
     "output_type": "stream",
     "text": [
      "Enter number: 5\n",
      "|||||||||\n",
      " |||||||\n",
      "  |||||\n",
      "   |||\n",
      "    |\n"
     ]
    }
   ],
   "source": [
    "# using for loop\n",
    "num = int(input('Enter number: '))\n",
    "count = num-1\n",
    "for i in range(num):\n",
    "    print(' '*i,end = '')\n",
    "    print('|'*(num+count))\n",
    "    count-=2"
   ]
  }
 ],
 "metadata": {
  "kernelspec": {
   "display_name": "Python 3 (ipykernel)",
   "language": "python",
   "name": "python3"
  },
  "language_info": {
   "codemirror_mode": {
    "name": "ipython",
    "version": 3
   },
   "file_extension": ".py",
   "mimetype": "text/x-python",
   "name": "python",
   "nbconvert_exporter": "python",
   "pygments_lexer": "ipython3",
   "version": "3.9.12"
  }
 },
 "nbformat": 4,
 "nbformat_minor": 5
}
