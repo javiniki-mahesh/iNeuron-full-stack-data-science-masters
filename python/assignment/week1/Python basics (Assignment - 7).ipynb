{
 "cells": [
  {
   "cell_type": "markdown",
   "id": "d0c3d557",
   "metadata": {},
   "source": [
    "# python assignment - 7"
   ]
  },
  {
   "cell_type": "markdown",
   "id": "8b089494",
   "metadata": {},
   "source": [
    "## Q.1. Create two int type variables, apply addition, subtraction, division and multiplications and store the results in variables. Then print the data in the following format by calling the variables:"
   ]
  },
  {
   "cell_type": "markdown",
   "id": "8c3ab058",
   "metadata": {},
   "source": [
    "    First variable is __ & second variable is __.\n",
    "    Addition: __ + __ = __\n",
    "    Subtraction: __ - __ = __\n",
    "    Multiplication: __ * __ = __\n",
    "    Division: __ / __ = __\n"
   ]
  },
  {
   "cell_type": "code",
   "execution_count": 28,
   "id": "dfe96a20",
   "metadata": {},
   "outputs": [
    {
     "name": "stdout",
     "output_type": "stream",
     "text": [
      "Enter first integer: 4\n",
      "Enter second integer:  5\n",
      "\n",
      "First variable is 4 & second variable is 5.\n",
      "Addition: 4 + 5 = 9\n",
      "Subtraction: 4 - 5 = -1\n",
      "Multiplication: 4 * 5 = 20\n",
      "Division: 4 / 5 = 0.8\n"
     ]
    }
   ],
   "source": [
    "# Sol\n",
    "def start_program():\n",
    "    def print_result(num1, num2, addition, subtraction, multiplication, division):\n",
    "        print(f\"\\nFirst variable is {num1} & second variable is {num2}.\")\n",
    "        print(f\"Addition: {num1} + {num2} = {addition}\")\n",
    "        print(f\"Subtraction: {num1} - {num2} = {subtraction}\")\n",
    "        print(f\"Multiplication: {num1} * {num2} = {multiplication}\")\n",
    "        print(f\"Division: {num1} / {num2} = {division}\")\n",
    "        \n",
    "    def arithmetic_operations(num1, num2):\n",
    "        addition = num1 + num2\n",
    "        subtraction = num1 - num2\n",
    "        multiplication = num1 * num2\n",
    "        division = num1 / num2\n",
    "        \n",
    "        print_result(num1, num2, addition, subtraction, multiplication, division)\n",
    "        # from arithmetic_operations call to print_result\n",
    "        \n",
    "    def take_input():\n",
    "        num1 = int(input(\"Enter first integer: \"))\n",
    "        num2 = int(input(\"Enter second integer:  \"))\n",
    "        \n",
    "        arithmetic_operations(num1, num2) # from input call to arithmetic_operations\n",
    "        \n",
    "    take_input() # 1. first call taking input\n",
    " \n",
    "    \n",
    "start_program() # starting the program from here\n"
   ]
  },
  {
   "cell_type": "markdown",
   "id": "e62bdc7b",
   "metadata": {},
   "source": [
    "## Q.2. What is the difference between the following operators:\n",
    "## (i) ‘/’ & ‘//’\n",
    "## (ii) ‘**’ & ‘^’"
   ]
  },
  {
   "cell_type": "markdown",
   "id": "4f53c5f9",
   "metadata": {},
   "source": [
    "(i) The operators '/' and '//' are both used for division in Python, but they have different behaviors:\n",
    "\n",
    "- The '/' operator performs regular division and returns the quotient as a floating-point number. For example, 7 / 2 would evaluate to 3.5.\n",
    "\n",
    "- The '//' operator is used for floor division, which returns the quotient as an integer, discarding the fractional part. It performs integer division, rounding down to the nearest integer. For example, 7 // 2 would evaluate to 3.\n",
    "\n",
    "(ii) The operators '**' and '^' are used for exponentiation in Python, but they have different meanings:\n",
    "\n",
    "- The '**' operator is the exponentiation operator in Python. It raises a number to the power of another number. For example, 2 ** 3 would evaluate to 8, as it calculates 2 raised to the power of 3.\n",
    "\n",
    "- The '^' operator, on the other hand, is the bitwise XOR operator in Python. It performs the bitwise XOR operation between two integers. It takes the corresponding bits of two numbers and returns 1 if they are different and 0 if they are the same. For example, 5 ^ 3 would evaluate to 6, as it performs the XOR operation on the binary representations of 5 (101) and 3 (011), resulting in 110, which is 6 in decimal.\n",
    "\n",
    "In summary, '/' and '//' are both division operators, but '/' returns a float quotient while '//' returns an integer quotient. '**' is the exponentiation operator, whereas '^' is the bitwise XOR operator."
   ]
  },
  {
   "cell_type": "code",
   "execution_count": 29,
   "id": "fce43223",
   "metadata": {},
   "outputs": [
    {
     "name": "stdout",
     "output_type": "stream",
     "text": [
      "3.5\n",
      "3\n"
     ]
    }
   ],
   "source": [
    "# / and //\n",
    "print(7/2)\n",
    "print(7//2)"
   ]
  },
  {
   "cell_type": "code",
   "execution_count": 30,
   "id": "2dafa0cb",
   "metadata": {},
   "outputs": [
    {
     "name": "stdout",
     "output_type": "stream",
     "text": [
      "8\n",
      "1\n",
      "0\n"
     ]
    }
   ],
   "source": [
    "# ** and ^\n",
    "print(2**3)\n",
    "print(2^3)\n",
    "print(2^2)"
   ]
  },
  {
   "cell_type": "markdown",
   "id": "3759342b",
   "metadata": {},
   "source": [
    "## Q.3. List the logical operators."
   ]
  },
  {
   "cell_type": "markdown",
   "id": "615b7637",
   "metadata": {},
   "source": [
    "The logical operators in Python are:\n",
    "\n",
    "1. `and`: The `and` operator returns `True` if both operands are `True`, and `False` otherwise.\n",
    "\n",
    "2. `or`: The `or` operator returns `True` if at least one of the operands is `True`, and `False` if both operands are `False`.\n",
    "\n",
    "3. `not`: The `not` operator is a unary operator that negates the truth value of an expression. It returns `True` if the expression is `False`, and `False` if the expression is `True`.\n",
    "\n",
    "These logical operators are commonly used to combine or modify the conditions in if statements, while loops, and other logical evaluations in Python."
   ]
  },
  {
   "cell_type": "code",
   "execution_count": 31,
   "id": "01697849",
   "metadata": {},
   "outputs": [
    {
     "name": "stdout",
     "output_type": "stream",
     "text": [
      "Both x and y are greater than 0.\n",
      "You are eligible to drive.\n"
     ]
    }
   ],
   "source": [
    "# and\n",
    "\n",
    "# Example 1\n",
    "x = 5\n",
    "y = 10\n",
    "z = 15\n",
    "\n",
    "if x > 0 and y > 0:\n",
    "    print(\"Both x and y are greater than 0.\")\n",
    "\n",
    "# Example 2\n",
    "age = 25\n",
    "has_license = True\n",
    "\n",
    "if age >= 18 and has_license:\n",
    "    print(\"You are eligible to drive.\")"
   ]
  },
  {
   "cell_type": "code",
   "execution_count": 32,
   "id": "9c46f736",
   "metadata": {},
   "outputs": [
    {
     "name": "stdout",
     "output_type": "stream",
     "text": [
      "It's either sunny or warm.\n",
      "It's time to relax and enjoy.\n"
     ]
    }
   ],
   "source": [
    "# or \n",
    "# Example 1\n",
    "is_sunny = True\n",
    "is_warm = False\n",
    "\n",
    "if is_sunny or is_warm:\n",
    "    print(\"It's either sunny or warm.\")\n",
    "\n",
    "# Example 2\n",
    "is_weekend = True\n",
    "is_holiday = False\n",
    "\n",
    "if is_weekend or is_holiday:\n",
    "    print(\"It's time to relax and enjoy.\")"
   ]
  },
  {
   "cell_type": "code",
   "execution_count": 33,
   "id": "4d149cb0",
   "metadata": {},
   "outputs": [
    {
     "name": "stdout",
     "output_type": "stream",
     "text": [
      "The container is not empty.\n"
     ]
    }
   ],
   "source": [
    "# not\n",
    "\n",
    "# Example 1\n",
    "is_raining = True\n",
    "\n",
    "if not is_raining:\n",
    "    print(\"It's not raining.\")\n",
    "\n",
    "# Example 2\n",
    "is_empty = False\n",
    "\n",
    "if not is_empty:\n",
    "    print(\"The container is not empty.\")"
   ]
  },
  {
   "cell_type": "markdown",
   "id": "4ba98452",
   "metadata": {},
   "source": [
    "## Q.4. Explain right shift operator and left shift operator with examples."
   ]
  },
  {
   "cell_type": "markdown",
   "id": "8ac9d658",
   "metadata": {},
   "source": [
    "The right shift (`>>`) and left shift (`<<`) operators are bitwise operators in Python. They are used to shift the bits of a number to the right or left, respectively. The shift operation moves the bits by a specified number of positions, filling the shifted positions with either zeros or the sign bit, depending on the context.\n",
    "\n",
    "1. Right Shift (`>>`):\n",
    "The right shift operator (`>>`) shifts the bits of a number to the right by a specified number of positions. It effectively divides the number by 2 raised to the power of the shift amount.\n",
    "\n",
    "Example:"
   ]
  },
  {
   "cell_type": "code",
   "execution_count": 34,
   "id": "e35bf9bf",
   "metadata": {},
   "outputs": [
    {
     "name": "stdout",
     "output_type": "stream",
     "text": [
      "3\n"
     ]
    }
   ],
   "source": [
    "# Right shift operator\n",
    "num = 12  # Binary: 1100\n",
    "\n",
    "# Shifting 2 positions to the right\n",
    "result = num >> 2  # Binary: 0011, Decimal: 3\n",
    "print(result)"
   ]
  },
  {
   "cell_type": "markdown",
   "id": "1a038b0a",
   "metadata": {},
   "source": [
    "2. Left Shift (`<<`):\n",
    "The left shift operator (`<<`) shifts the bits of a number to the left by a specified number of positions. It effectively multiplies the number by 2 raised to the power of the shift amount.\n",
    "\n",
    "Example:"
   ]
  },
  {
   "cell_type": "code",
   "execution_count": 35,
   "id": "52f91674",
   "metadata": {},
   "outputs": [
    {
     "name": "stdout",
     "output_type": "stream",
     "text": [
      "40\n"
     ]
    }
   ],
   "source": [
    "# Left shift operator\n",
    "num = 5  # Binary: 0101\n",
    "\n",
    "# Shifting 3 positions to the left\n",
    "result = num << 3  # Binary: 0101000, Decimal: 40\n",
    "print(result)"
   ]
  },
  {
   "cell_type": "markdown",
   "id": "39a4799c",
   "metadata": {},
   "source": [
    "    The right shift and left shift operators are commonly used in bitwise operations, low-level programming, and optimizing certain arithmetic operations. They allow for efficient manipulation of binary representations of numbers by shifting the bits to the desired positions."
   ]
  },
  {
   "cell_type": "markdown",
   "id": "601c695c",
   "metadata": {},
   "source": [
    "## Q.5. Create a list containing int type data of length 15. Then write a code to check if 10 is present in the list or not."
   ]
  },
  {
   "cell_type": "code",
   "execution_count": 36,
   "id": "d9c501ed",
   "metadata": {},
   "outputs": [
    {
     "name": "stdout",
     "output_type": "stream",
     "text": [
      "length of list 15\n",
      "10 is present in the list.\n"
     ]
    }
   ],
   "source": [
    "# Create a list of integers\n",
    "my_list = [3, 5, 8, 2, 6, 10, 1, 9, 4, 7, 12, 15, 11, 14, 13]\n",
    "\n",
    "# length of list\n",
    "print(\"length of list\", len(my_list))\n",
    "\n",
    "\n",
    "# Check if 10 is present in the list\n",
    "if 10 in my_list:\n",
    "    print(\"10 is present in the list.\")\n",
    "else:\n",
    "    print(\"10 is not present in the list.\")\n"
   ]
  }
 ],
 "metadata": {
  "kernelspec": {
   "display_name": "Python 3 (ipykernel)",
   "language": "python",
   "name": "python3"
  },
  "language_info": {
   "codemirror_mode": {
    "name": "ipython",
    "version": 3
   },
   "file_extension": ".py",
   "mimetype": "text/x-python",
   "name": "python",
   "nbconvert_exporter": "python",
   "pygments_lexer": "ipython3",
   "version": "3.9.12"
  }
 },
 "nbformat": 4,
 "nbformat_minor": 5
}
