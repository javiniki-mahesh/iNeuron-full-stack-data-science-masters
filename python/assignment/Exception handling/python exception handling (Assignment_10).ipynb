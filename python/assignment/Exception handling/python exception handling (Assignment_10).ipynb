{
 "cells": [
  {
   "cell_type": "markdown",
   "id": "290b733e",
   "metadata": {},
   "source": [
    "# Python exception handling (Assignment_10)"
   ]
  },
  {
   "cell_type": "markdown",
   "id": "5a08e7d6",
   "metadata": {},
   "source": [
    "### 1. What is the role of try and exception block?"
   ]
  },
  {
   "cell_type": "markdown",
   "id": "770050f1",
   "metadata": {},
   "source": [
    "The try and except (exception) block is a construct used in programming languages, including Python, to handle exceptions or errors that may occur during the execution of a program. It provides a mechanism for catching and handling exceptions, allowing the program to continue running rather than abruptly terminating.\n",
    "\n",
    "The basic structure of a try-except block in Python is as follows:\n",
    "```python\n",
    "try:\n",
    "    # Code that may raise an exception\n",
    "except ExceptionType:\n",
    "    # Code to handle the exception\n",
    "```\n",
    "\n",
    "Here's how the try-except block works:\n",
    "\n",
    "1. The code within the try block is executed.\n",
    "2. If an exception occurs within the try block, the normal flow of execution is interrupted, and the code within the except block is executed.\n",
    "3. The except block handles the exception by specifying the type of exception it can handle (e.g., ValueError, IndexError, etc.).\n",
    "4. If the exception raised matches the specified type, the code within the except block is executed to handle the exception.\n",
    "5. After executing the except block, the program continues running from the point immediately after the try-except block.\n",
    "\n",
    "Using try-except blocks, you can gracefully handle exceptions and implement error recovery or fallback strategies. They help prevent your program from crashing and allow you to handle exceptional situations in a controlled manner, such as displaying an error message, logging the error, or taking alternative actions. Additionally, you can have multiple except blocks to handle different types of exceptions or handle them in different ways."
   ]
  },
  {
   "cell_type": "markdown",
   "id": "1e742ee2",
   "metadata": {},
   "source": [
    "### 2. What is the syntax for a basic try-except block?"
   ]
  },
  {
   "cell_type": "markdown",
   "id": "f17d550e",
   "metadata": {},
   "source": [
    "The basic syntax for a try-except block in Python is as follows:\n",
    "```python\n",
    "try:\n",
    "    # Code that may raise an exception\n",
    "except ExceptionType:\n",
    "    # Code to handle the exception\n",
    "```\n",
    "Let's break down the different parts of the syntax:\n",
    "\n",
    "- The `try` keyword marks the start of the try block. It encloses the code that you anticipate might raise an exception.\n",
    "- The code within the try block is the section where you expect an exception to occur.\n",
    "- If an exception is raised within the try block, the program flow is transferred to the except block.\n",
    "- The `except` keyword is followed by the specific exception type or types you want to catch. You can specify the built-in exception classes like `ValueError`, `TypeError`, or a base class like `Exception` to catch any type of exception. Multiple except blocks can be used to handle different types of exceptions.\n",
    "- After the except block, the program resumes executing from the point immediately after the try-except block.\n",
    "\n",
    "Here's an example to illustrate the syntax:\n"
   ]
  },
  {
   "cell_type": "code",
   "execution_count": 2,
   "id": "88db3da2",
   "metadata": {},
   "outputs": [
    {
     "name": "stdout",
     "output_type": "stream",
     "text": [
      "Enter a number: 0\n",
      "Error: Cannot divide by zero.\n"
     ]
    }
   ],
   "source": [
    "try:\n",
    "    x = int(input(\"Enter a number: \"))\n",
    "    result = 10 / x\n",
    "    print(\"The result is:\", result)\n",
    "except ZeroDivisionError:\n",
    "    print(\"Error: Cannot divide by zero.\")\n",
    "except ValueError:\n",
    "    print(\"Error: Invalid input. Please enter a valid number.\")"
   ]
  },
  {
   "cell_type": "markdown",
   "id": "cf672e44",
   "metadata": {},
   "source": [
    "In this example, the code within the try block takes user input, performs a division, and prints the result. If the user enters `0`, a `ZeroDivisionError` is raised, and the program flow is transferred to the corresponding `except` block. If the user enters an invalid number (e.g., a string), a `ValueError` is raised, and the program flow is transferred to the other `except` block."
   ]
  },
  {
   "cell_type": "markdown",
   "id": "90ac31cb",
   "metadata": {},
   "source": [
    "### 3. What happens if an exception occurs inside a try block and there is no matching except block?"
   ]
  },
  {
   "cell_type": "markdown",
   "id": "8220a306",
   "metadata": {},
   "source": [
    "If an exception occurs inside a try block and there is no matching except block to handle that specific exception type, the exception will propagate up the call stack. This means that the program will look for an appropriate except block in the surrounding code or in the calling functions.\n",
    "\n",
    "If no suitable except block is found anywhere in the call stack, the program will terminate, and an unhandled exception error will be displayed along with a traceback, indicating the line of code where the exception was raised.\n",
    "\n",
    "Here's an example to illustrate this scenario:"
   ]
  },
  {
   "cell_type": "code",
   "execution_count": 5,
   "id": "9e57bc85",
   "metadata": {},
   "outputs": [
    {
     "ename": "ZeroDivisionError",
     "evalue": "division by zero",
     "output_type": "error",
     "traceback": [
      "\u001b[1;31m---------------------------------------------------------------------------\u001b[0m",
      "\u001b[1;31mZeroDivisionError\u001b[0m                         Traceback (most recent call last)",
      "Input \u001b[1;32mIn [5]\u001b[0m, in \u001b[0;36m<cell line: 1>\u001b[1;34m()\u001b[0m\n\u001b[0;32m      1\u001b[0m \u001b[38;5;28;01mtry\u001b[39;00m:\n\u001b[1;32m----> 2\u001b[0m     x \u001b[38;5;241m=\u001b[39m \u001b[38;5;241;43m10\u001b[39;49m\u001b[43m \u001b[49m\u001b[38;5;241;43m/\u001b[39;49m\u001b[43m \u001b[49m\u001b[38;5;241;43m0\u001b[39;49m  \u001b[38;5;66;03m# Raises ZeroDivisionError\u001b[39;00m\n\u001b[0;32m      3\u001b[0m \u001b[38;5;28;01mexcept\u001b[39;00m \u001b[38;5;167;01mValueError\u001b[39;00m:\n\u001b[0;32m      4\u001b[0m     \u001b[38;5;28mprint\u001b[39m(\u001b[38;5;124m\"\u001b[39m\u001b[38;5;124mThis block will not be executed for ZeroDivisionError.\u001b[39m\u001b[38;5;124m\"\u001b[39m)\n",
      "\u001b[1;31mZeroDivisionError\u001b[0m: division by zero"
     ]
    }
   ],
   "source": [
    "try:\n",
    "    x = 10 / 0  # Raises ZeroDivisionError\n",
    "except ValueError:\n",
    "    print(\"This block will not be executed for ZeroDivisionError.\")"
   ]
  },
  {
   "cell_type": "markdown",
   "id": "f6f2024d",
   "metadata": {},
   "source": [
    "In this example, the try block attempts to divide 10 by 0, which raises a `ZeroDivisionError`. However, the except block specifies `ValueError`, which does not match the raised exception. Since there is no matching except block, the program will terminate with an unhandled exception error.\n",
    "\n",
    "To handle exceptions effectively, it's important to include appropriate except blocks to catch and handle the expected exception types or use a more generic except block like `except Exception` to handle any type of exception."
   ]
  },
  {
   "cell_type": "markdown",
   "id": "34a82375",
   "metadata": {},
   "source": [
    "### 4. What is the difference between using a bare except block and specifying a specific exception type?"
   ]
  },
  {
   "cell_type": "markdown",
   "id": "7d0ccf83",
   "metadata": {},
   "source": [
    "When handling exceptions in a try-except block, there is a difference between using a bare except block (i.e., except without specifying an exception type) and specifying a specific exception type. Let's explore the differences:\n",
    "\n",
    "1. Bare Except Block:\n",
    "   ```python\n",
    "   try:\n",
    "       # Code that may raise an exception\n",
    "   except:\n",
    "       # Code to handle the exception\n",
    "   ```\n",
    "\n",
    "   - A bare except block catches all types of exceptions, regardless of their specific type.\n",
    "   - It acts as a catch-all for any exception that occurs within the try block.\n",
    "   - While it provides a way to handle any exception, it can make it difficult to diagnose and handle exceptions properly since you don't have explicit information about the type of exception that occurred.\n",
    "   - It can inadvertently catch exceptions you may not have intended to handle, leading to potential bugs or hidden errors.\n",
    "   - Using a bare except block is generally considered bad practice unless you have a compelling reason to catch all exceptions.\n",
    "\n",
    "2. Specific Exception Type:\n",
    "   ```python\n",
    "   try:\n",
    "       # Code that may raise an exception\n",
    "   except ExceptionType:\n",
    "       # Code to handle the specific exception\n",
    "   ```\n",
    "\n",
    "   - A specific exception type in the except block allows you to catch and handle a particular type of exception.\n",
    "   - You explicitly specify the exception type you want to handle, such as `ValueError`, `TypeError`, or any custom exception class.\n",
    "   - This approach provides more control and clarity, allowing you to handle different exceptions in different ways, tailoring your error handling and recovery strategies accordingly.\n",
    "   - It helps in narrowing down the types of exceptions you expect and ensures that you only handle the ones you are prepared to deal with.\n",
    "   - You can have multiple except blocks with different exception types to handle various exceptions separately.\n",
    "\n",
    "In general, it is recommended to use specific exception types whenever possible to have precise error handling and avoid accidentally catching and handling exceptions you didn't intend to address. This approach enhances code clarity, maintainability, and helps in effectively diagnosing and resolving issues."
   ]
  },
  {
   "cell_type": "markdown",
   "id": "95fb21ff",
   "metadata": {},
   "source": [
    "Examples showcasing the differences between a bare except block and specifying a specific exception type:\n",
    "\n",
    "1. Bare Except Block:"
   ]
  },
  {
   "cell_type": "code",
   "execution_count": 6,
   "id": "4389018f",
   "metadata": {},
   "outputs": [
    {
     "name": "stdout",
     "output_type": "stream",
     "text": [
      "Enter a number: 0\n",
      "An error occurred. Please try again.\n"
     ]
    }
   ],
   "source": [
    "try:\n",
    "    x = int(input(\"Enter a number: \"))\n",
    "    result = 10 / x\n",
    "    print(\"The result is:\", result)\n",
    "except:\n",
    "    print(\"An error occurred. Please try again.\")"
   ]
  },
  {
   "cell_type": "markdown",
   "id": "f595d2dc",
   "metadata": {},
   "source": [
    "In this example, the try block attempts to take user input, perform a division, and print the result. If any exception occurs during this process, the bare except block will catch it. However, since no specific exception type is specified, it will handle all exceptions uniformly by printing a generic error message. While this catch-all approach can prevent the program from crashing, it provides limited information about the specific error that occurred.\n",
    "\n",
    "2. Specific Exception Type:"
   ]
  },
  {
   "cell_type": "code",
   "execution_count": 9,
   "id": "b615803a",
   "metadata": {},
   "outputs": [
    {
     "name": "stdout",
     "output_type": "stream",
     "text": [
      "Enter a number: j\n",
      "Invalid input. Please enter a valid number.\n"
     ]
    }
   ],
   "source": [
    "try:\n",
    "    x = int(input(\"Enter a number: \"))\n",
    "    result = 10 / x\n",
    "    print(\"The result is:\", result)\n",
    "except ValueError:\n",
    "    print(\"Invalid input. Please enter a valid number.\")\n",
    "except ZeroDivisionError:\n",
    "    print(\"Error: Cannot divide by zero.\")"
   ]
  },
  {
   "cell_type": "markdown",
   "id": "6d506092",
   "metadata": {},
   "source": [
    "In this example, the try block again takes user input, performs a division, and prints the result. However, different exception types are explicitly handled using separate except blocks. If the user enters an invalid number (e.g., a string), a `ValueError` is raised, and the corresponding except block provides a specific error message. If the user enters `0`, a `ZeroDivisionError` is raised, and the program flow is transferred to the respective except block. This specific exception handling provides detailed and appropriate error messages based on the type of exception encountered.\n",
    "\n",
    "By comparing these examples, you can see that using specific exception types in except blocks allows for more precise and tailored error handling, providing better feedback to the user and making it easier to diagnose and address issues."
   ]
  },
  {
   "cell_type": "markdown",
   "id": "ff0d0177",
   "metadata": {},
   "source": [
    "### 5. Can you have nested try-except blocks in Python? If yes, then give an example."
   ]
  },
  {
   "cell_type": "markdown",
   "id": "2189b799",
   "metadata": {},
   "source": [
    "Yes, you can have nested try-except blocks in Python. This means you can place one try-except block inside another, allowing you to handle exceptions at different levels of granularity. Nested try-except blocks are useful when you need to handle exceptions in a more fine-grained manner for specific sections of code while providing a broader exception handling mechanism for the entire code.\n",
    "\n",
    "Here's an example of nested try-except blocks:\n"
   ]
  },
  {
   "cell_type": "code",
   "execution_count": 13,
   "id": "2d1c315b",
   "metadata": {},
   "outputs": [
    {
     "name": "stdout",
     "output_type": "stream",
     "text": [
      "Enter a number: m\n",
      "Invalid input. Please enter a valid number.\n"
     ]
    }
   ],
   "source": [
    "try:\n",
    "    x = int(input(\"Enter a number: \"))\n",
    "    \n",
    "    try:\n",
    "        result = 10 / x\n",
    "        print(\"The result is:\", result)\n",
    "        \n",
    "    except ZeroDivisionError:\n",
    "        print(\"Error: Cannot divide by zero.\")\n",
    "        \n",
    "except ValueError:\n",
    "    print(\"Invalid input. Please enter a valid number.\")\n"
   ]
  },
  {
   "cell_type": "markdown",
   "id": "a2964cb0",
   "metadata": {},
   "source": [
    "In this example, there are two nested try-except blocks. The outer try-except block handles a `ValueError`, which could occur if the user enters an invalid input (e.g., a non-numeric value) when prompted for a number.\n",
    "\n",
    "The inner try-except block handles a `ZeroDivisionError`, which could occur if the user enters `0`, leading to division by zero when calculating the result. This inner block allows us to specifically handle the division-related error while still allowing the outer block to handle other types of errors.\n",
    "\n",
    "When running the code, if the user enters a non-numeric input, the outer try-except block will handle the `ValueError`, and if the user enters `0`, the inner try-except block will handle the `ZeroDivisionError`. This nested structure provides a more granular approach to handling different types of exceptions in different parts of the code."
   ]
  },
  {
   "cell_type": "markdown",
   "id": "21294e96",
   "metadata": {},
   "source": [
    "### 6. Can we use multiple exception blocks, if yes then give an example."
   ]
  },
  {
   "cell_type": "markdown",
   "id": "b90b6db5",
   "metadata": {},
   "source": [
    "Yes, you can use multiple except blocks to handle different types of exceptions in Python. This allows you to specify distinct error handling logic for each exception type.\n",
    "\n",
    "Here's an example demonstrating the use of multiple except blocks:\n"
   ]
  },
  {
   "cell_type": "code",
   "execution_count": 15,
   "id": "efea6df2",
   "metadata": {},
   "outputs": [
    {
     "name": "stdout",
     "output_type": "stream",
     "text": [
      "Enter a number: 0\n",
      "Error: Cannot divide by zero.\n"
     ]
    }
   ],
   "source": [
    "try:\n",
    "    x = int(input(\"Enter a number: \"))\n",
    "    result = 10 / x\n",
    "    print(\"The result is:\", result)\n",
    "    \n",
    "except ValueError:\n",
    "    print(\"Invalid input. Please enter a valid number.\")\n",
    "    \n",
    "except ZeroDivisionError:\n",
    "    print(\"Error: Cannot divide by zero.\")"
   ]
  },
  {
   "cell_type": "markdown",
   "id": "2abcfb68",
   "metadata": {},
   "source": [
    "In this example, there are two except blocks specified after the try block. Each except block is responsible for handling a specific type of exception.\n",
    "\n",
    "- The first except block, `except ValueError`, will catch a `ValueError` if the user enters an invalid input (e.g., a string instead of a number). It will then print the corresponding error message.\n",
    "\n",
    "- The second except block, `except ZeroDivisionError`, will catch a `ZeroDivisionError` if the user enters `0`, leading to division by zero. It will print the corresponding error message.\n",
    "\n",
    "If an exception occurs, the program will flow into the appropriate except block based on the type of exception raised. Using multiple except blocks allows you to handle different exceptions separately, providing specific error messages or executing different error recovery strategies based on the exception type encountered."
   ]
  },
  {
   "cell_type": "markdown",
   "id": "2815fd38",
   "metadata": {},
   "source": [
    "### 7. Write the reason due to which following errors are raised:\n",
    "### a. EOFError\n",
    "### b. FloatingPointError\n",
    "### c. IndexError\n",
    "### d. MemoryError\n",
    "### e. OverflowError\n",
    "### f. TabError\n",
    "### g. ValueError"
   ]
  },
  {
   "cell_type": "markdown",
   "id": "45c37300",
   "metadata": {},
   "source": [
    "Here are the reasons due to which the following errors are raised:\n",
    "\n",
    "a. EOFError:\n",
    "   - An `EOFError` (End-of-File Error) is raised when the `input()` function reaches the end of a file or input stream unexpectedly.\n",
    "   - This error typically occurs when the program expects more input, but there is no more input available.\n",
    "\n",
    "b. FloatingPointError:\n",
    "   - A `FloatingPointError` is raised when a floating-point arithmetic operation fails to produce a valid result.\n",
    "   - This error can occur in scenarios such as division by zero, overflow or underflow of floating-point numbers, or other exceptional floating-point arithmetic conditions.\n",
    "\n",
    "c. IndexError:\n",
    "   - An `IndexError` is raised when you try to access a sequence (e.g., list, tuple, string) using an invalid index or a non-existent element.\n",
    "   - This error occurs when you use an index that is out of the range of valid indices for the sequence.\n",
    "\n",
    "d. MemoryError:\n",
    "   - A `MemoryError` is raised when an operation fails due to insufficient memory (RAM) available to complete the requested action.\n",
    "   - This error occurs when the program tries to allocate more memory than is available in the system.\n",
    "\n",
    "e. OverflowError:\n",
    "   - An `OverflowError` is raised when a mathematical operation exceeds the maximum representable value for a numeric type.\n",
    "   - This error occurs when the result of an arithmetic operation is too large to be stored within the range of the numeric type being used.\n",
    "\n",
    "f. TabError:\n",
    "   - A `TabError` is raised when there are inconsistencies or invalid usage of tabs and spaces for indentation in Python code.\n",
    "   - This error typically occurs when mixing tabs and spaces or when the indentation levels are not aligned properly.\n",
    "\n",
    "g. ValueError:\n",
    "   - A `ValueError` is raised when an argument passed to a function or built-in operation is of the correct type but has an invalid value.\n",
    "   - This error occurs when the input or argument is not within the acceptable range or does not conform to the expected format.\n",
    "\n",
    "Understanding the reasons behind these errors can help in debugging and resolving issues in your Python programs."
   ]
  },
  {
   "cell_type": "markdown",
   "id": "45334952",
   "metadata": {},
   "source": [
    "### 8. Write code for the following given scenario and add try-exception block to it.\n",
    "### a. Program to divide two numbers\n",
    "### b. Program to convert a string to an integer\n",
    "### c. Program to access an element in a list\n",
    "### d. Program to handle a specific exception\n",
    "### e. Program to handle any exception"
   ]
  },
  {
   "cell_type": "markdown",
   "id": "4ed978bb",
   "metadata": {},
   "source": [
    "Here's the code for each scenario along with the try-except blocks:\n",
    "\n",
    "##### a. Program to divide two numbers:"
   ]
  },
  {
   "cell_type": "code",
   "execution_count": 11,
   "id": "f2e51f6e",
   "metadata": {},
   "outputs": [
    {
     "name": "stdout",
     "output_type": "stream",
     "text": [
      "Enter the numerator: 1\n",
      "Enter the denominator: 0\n",
      "Error: Cannot divide by zero.\n"
     ]
    }
   ],
   "source": [
    "try:\n",
    "    num1 = int(input(\"Enter the numerator: \"))\n",
    "    num2 = int(input(\"Enter the denominator: \"))\n",
    "    result = num1 / num2\n",
    "    print(\"The result of division is:\", result)\n",
    "except ZeroDivisionError:\n",
    "    print(\"Error: Cannot divide by zero.\")\n",
    "except ValueError:\n",
    "    print(\"Error: Invalid input. Please enter valid integers.\")"
   ]
  },
  {
   "cell_type": "markdown",
   "id": "17607699",
   "metadata": {},
   "source": [
    "##### b. Program to convert a string to an integer:"
   ]
  },
  {
   "cell_type": "code",
   "execution_count": 14,
   "id": "75be1dda",
   "metadata": {},
   "outputs": [
    {
     "name": "stdout",
     "output_type": "stream",
     "text": [
      "Enter a number: m\n",
      "Error: Invalid input. Please enter a valid integer.\n"
     ]
    }
   ],
   "source": [
    "try:\n",
    "    string_num = input(\"Enter a number: \")\n",
    "    number = int(string_num)\n",
    "    print(\"The converted number is:\", number)\n",
    "except ValueError:\n",
    "    print(\"Error: Invalid input. Please enter a valid integer.\")"
   ]
  },
  {
   "cell_type": "markdown",
   "id": "1f609f4a",
   "metadata": {},
   "source": [
    "##### c. Program to access an element in a list:"
   ]
  },
  {
   "cell_type": "code",
   "execution_count": 16,
   "id": "8e551516",
   "metadata": {},
   "outputs": [
    {
     "name": "stdout",
     "output_type": "stream",
     "text": [
      "Enter an index: 5\n",
      "Error: Index out of range. Please enter a valid index.\n"
     ]
    }
   ],
   "source": [
    "try:\n",
    "    my_list = [1, 2, 3, 4, 5]\n",
    "    index = int(input(\"Enter an index: \"))\n",
    "    element = my_list[index]\n",
    "    print(\"The element at index\", index, \"is:\", element)\n",
    "except IndexError:\n",
    "    print(\"Error: Index out of range. Please enter a valid index.\")\n",
    "except ValueError:\n",
    "    print(\"Error: Invalid input. Please enter a valid integer index.\")"
   ]
  },
  {
   "cell_type": "markdown",
   "id": "19ee70c6",
   "metadata": {},
   "source": [
    "##### d. Program to handle a specific exception:"
   ]
  },
  {
   "cell_type": "code",
   "execution_count": 19,
   "id": "0825532a",
   "metadata": {},
   "outputs": [
    {
     "name": "stdout",
     "output_type": "stream",
     "text": [
      "Enter a number: -2\n",
      "Error: Negative numbers are not allowed.\n"
     ]
    }
   ],
   "source": [
    "try:\n",
    "    num = int(input(\"Enter a number: \"))\n",
    "    if num < 0:\n",
    "        raise ValueError(\"Negative numbers are not allowed.\")\n",
    "    print(\"The number is:\", num)\n",
    "except ValueError as ve:\n",
    "    print(\"Error:\", str(ve))"
   ]
  },
  {
   "cell_type": "markdown",
   "id": "2714e466",
   "metadata": {},
   "source": [
    "##### e. Program to handle any exception:"
   ]
  },
  {
   "cell_type": "code",
   "execution_count": 21,
   "id": "969ef02f",
   "metadata": {},
   "outputs": [
    {
     "name": "stdout",
     "output_type": "stream",
     "text": [
      "Enter the first number: 2\n",
      "Enter the second number: 0\n",
      "An error occurred: division by zero\n"
     ]
    }
   ],
   "source": [
    "try:\n",
    "    num1 = int(input(\"Enter the first number: \"))\n",
    "    num2 = int(input(\"Enter the second number: \"))\n",
    "    result = num1 / num2\n",
    "    print(\"The result of division is:\", result)\n",
    "except Exception as e:\n",
    "    print(\"An error occurred:\", str(e))"
   ]
  },
  {
   "cell_type": "markdown",
   "id": "fd44f645",
   "metadata": {},
   "source": [
    "In each scenario, the try-except block is used to handle specific exceptions that may occur within the code. The except blocks provide appropriate error messages or perform error handling actions based on the type of exception encountered."
   ]
  }
 ],
 "metadata": {
  "kernelspec": {
   "display_name": "Python 3 (ipykernel)",
   "language": "python",
   "name": "python3"
  },
  "language_info": {
   "codemirror_mode": {
    "name": "ipython",
    "version": 3
   },
   "file_extension": ".py",
   "mimetype": "text/x-python",
   "name": "python",
   "nbconvert_exporter": "python",
   "pygments_lexer": "ipython3",
   "version": "3.9.12"
  }
 },
 "nbformat": 4,
 "nbformat_minor": 5
}
