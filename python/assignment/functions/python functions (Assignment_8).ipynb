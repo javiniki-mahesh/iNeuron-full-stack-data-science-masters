{
 "cells": [
  {
   "cell_type": "markdown",
   "id": "5a849118",
   "metadata": {},
   "source": [
    "# python functions (Assignment_8)"
   ]
  },
  {
   "cell_type": "markdown",
   "id": "ffe59f38",
   "metadata": {},
   "source": [
    "### 1. In Python, what is the difference between a built-in function and a user-defined function? Provide an example of each."
   ]
  },
  {
   "cell_type": "markdown",
   "id": "c236d3bd",
   "metadata": {},
   "source": [
    "In Python, the main difference between a built-in function and a user-defined function lies in their origin and implementation.\n",
    "\n",
    "1. Built-in function:\n",
    "A built-in function is a function that is provided by the Python language itself and is readily available for use without requiring any additional setup. These functions are part of Python's standard library and cover a wide range of tasks. Examples of built-in functions include `print()`, `len()`, `max()`, `min()`, `sum()`, etc.\n"
   ]
  },
  {
   "cell_type": "code",
   "execution_count": 3,
   "id": "ed6a3c19",
   "metadata": {},
   "outputs": [
    {
     "name": "stdout",
     "output_type": "stream",
     "text": [
      "5\n"
     ]
    }
   ],
   "source": [
    "# Using the built-in function 'len()'\n",
    "my_list = [1, 2, 3, 4, 5]\n",
    "length_of_list = len(my_list)\n",
    "print(length_of_list)"
   ]
  },
  {
   "cell_type": "markdown",
   "id": "1c8022dc",
   "metadata": {},
   "source": [
    "2. User-defined function:\n",
    "A user-defined function is a function that is created by the Python programmer to perform specific tasks that are not covered by built-in functions. These functions are defined using the `def` keyword followed by the function name, parameters (if any), and the function body."
   ]
  },
  {
   "cell_type": "code",
   "execution_count": 2,
   "id": "ebc365b3",
   "metadata": {},
   "outputs": [
    {
     "name": "stdout",
     "output_type": "stream",
     "text": [
      "8\n"
     ]
    }
   ],
   "source": [
    "def add_numbers(a, b):\n",
    "    return a + b\n",
    "\n",
    "# Using the user-defined function to add two numbers\n",
    "result = add_numbers(5, 3)\n",
    "print(result)"
   ]
  },
  {
   "cell_type": "markdown",
   "id": "a718180b",
   "metadata": {},
   "source": [
    "### 2. How can you pass arguments to a function in Python? Explain the difference between positional arguments and keyword arguments"
   ]
  },
  {
   "cell_type": "markdown",
   "id": "2e636480",
   "metadata": {},
   "source": [
    "In Python, there are two ways to pass arguments to a function: positional arguments and keyword arguments.\n",
    "\n",
    "##### 1. Positional Arguments:\n",
    "Positional arguments are passed to a function based on their position or order. The arguments are matched to the function parameters in the same order they are provided. The number and order of the arguments must match the function definition.\n",
    "\n",
    "Here's an example of using positional arguments:"
   ]
  },
  {
   "cell_type": "code",
   "execution_count": 10,
   "id": "08069e1b",
   "metadata": {},
   "outputs": [
    {
     "name": "stdout",
     "output_type": "stream",
     "text": [
      "Hello, Mahesh! You are 20 years old.\n"
     ]
    }
   ],
   "source": [
    "def greet(name, age):\n",
    "    print(f\"Hello, {name}! You are {age} years old.\")\n",
    "\n",
    "# Passing positional arguments\n",
    "greet(\"Mahesh\", 20)"
   ]
  },
  {
   "cell_type": "markdown",
   "id": "75d5943e",
   "metadata": {},
   "source": [
    "In the example above, the `greet()` function expects two positional arguments: `name` and `age`. When we call the function and pass `\"Mahesh\"` as the first argument and `20` as the second argument, they are assigned to the corresponding parameters in the order they were passed."
   ]
  },
  {
   "cell_type": "markdown",
   "id": "a97ae5c8",
   "metadata": {},
   "source": [
    "#### 2. Keyword Arguments:\n",
    "Keyword arguments are passed to a function with their corresponding parameter names. The order of the arguments doesn't matter in this case, as long as the parameter names are specified.\n",
    "\n",
    "Here's an example of using keyword arguments:"
   ]
  },
  {
   "cell_type": "code",
   "execution_count": 13,
   "id": "06a65711",
   "metadata": {},
   "outputs": [
    {
     "name": "stdout",
     "output_type": "stream",
     "text": [
      "Hello, Mahesh! You are 30 years old.\n"
     ]
    }
   ],
   "source": [
    "def greet(name, age):\n",
    "    print(f\"Hello, {name}! You are {age} years old.\")\n",
    "\n",
    "# Passing keyword arguments\n",
    "greet(age=20, name=\"Mahesh\")"
   ]
  },
  {
   "cell_type": "markdown",
   "id": "980c1bb5",
   "metadata": {},
   "source": [
    "In the example above, we passed the arguments using their parameter names `age` and `name` instead of relying on their positions. This allows us to specify the values for specific parameters in any order we want.\n",
    "\n",
    "It's worth noting that in Python, you can also mix positional and keyword arguments, but positional arguments must always come before keyword arguments."
   ]
  },
  {
   "cell_type": "code",
   "execution_count": 15,
   "id": "33bf95cb",
   "metadata": {},
   "outputs": [
    {
     "name": "stdout",
     "output_type": "stream",
     "text": [
      "Hello, Mahesh! You are 25 years old.\n"
     ]
    }
   ],
   "source": [
    "def greet(name, age):\n",
    "    print(f\"Hello, {name}! You are {age} years old.\")\n",
    "\n",
    "# Mixing positional and keyword arguments\n",
    "greet(\"Mahesh\", age=20)"
   ]
  },
  {
   "cell_type": "markdown",
   "id": "1b11ded4",
   "metadata": {},
   "source": [
    "In the example above, we passed the first argument `\"Mahesh\"` as a positional argument and the second argument `age=20` as a keyword argument."
   ]
  },
  {
   "cell_type": "markdown",
   "id": "ab189792",
   "metadata": {},
   "source": [
    "### 3. What is the purpose of the return statement in a function? Can a function have multiple return statements? Explain with an example."
   ]
  },
  {
   "cell_type": "markdown",
   "id": "77c132e1",
   "metadata": {},
   "source": [
    "The `return` statement in a function serves the purpose of specifying what value or values the function should send back as its output or result. When a function encounters a `return` statement, it immediately exits the function and returns the specified value(s) to the caller. If there is no `return` statement in the function or the `return` statement is without an expression, the function implicitly returns `None`.\n",
    "\n",
    "Yes, a function can have multiple `return` statements. The function will return the value associated with the first `return` statement it encounters during its execution.\n",
    "\n",
    "Here's an example to illustrate the use of the `return` statement in a function with multiple return statements:\n"
   ]
  },
  {
   "cell_type": "code",
   "execution_count": 20,
   "id": "f1ef2908",
   "metadata": {},
   "outputs": [
    {
     "name": "stdout",
     "output_type": "stream",
     "text": [
      "5\n",
      "7\n"
     ]
    }
   ],
   "source": [
    "def absolute_value(number):\n",
    "    if number >= 0:\n",
    "        return number\n",
    "    else:\n",
    "        return -number\n",
    "\n",
    "result1 = absolute_value(5)\n",
    "result2 = absolute_value(-7)\n",
    "\n",
    "print(result1) \n",
    "print(result2) "
   ]
  },
  {
   "cell_type": "markdown",
   "id": "6190e4ad",
   "metadata": {},
   "source": [
    "In this example, we defined a function called `absolute_value()` that takes a single argument `number`. The function returns the absolute value of the number by using a conditional statement with two `return` statements:\n",
    "\n",
    "1. If the `number` is greater than or equal to 0, it returns the number itself.\n",
    "2. If the `number` is negative (less than 0), it returns the negation of the number (i.e., its absolute value).\n",
    "\n",
    "When we call the function with `absolute_value(5)`, it returns `5`, and when we call it with `absolute_value(-7)`, it returns `7`, demonstrating the multiple `return` statements in action.\n",
    "\n",
    "Remember that once the function encounters a `return` statement, it exits the function, and any subsequent code in the function will not be executed. Therefore, only one `return` statement will be executed during the function's execution."
   ]
  },
  {
   "cell_type": "markdown",
   "id": "688ff8fc",
   "metadata": {},
   "source": [
    "### 4. What are lambda functions in Python? How are they different from regular functions? Provide an example where a lambda function can be useful."
   ]
  },
  {
   "cell_type": "markdown",
   "id": "25fda3ab",
   "metadata": {},
   "source": [
    "Lambda functions, also known as anonymous functions, are small, single-line functions in Python that can be defined without a name. They are typically used for simple and concise operations and are created using the `lambda` keyword.\n",
    "\n",
    "The key differences between lambda functions and regular functions are:\n",
    "\n",
    "1. Syntax: Lambda functions have a more compact syntax compared to regular functions. They are defined using the `lambda` keyword, followed by a list of parameters, a colon, and the expression to be evaluated.\n",
    "\n",
    "2. Nameless: Lambda functions are anonymous, meaning they don't have a name. They are typically used when a small function is needed for a specific task and doesn't require a full function definition.\n",
    "\n",
    "3. Single Expression: Lambda functions are limited to a single expression. They can't contain multiple statements or complex logic.\n",
    "\n",
    "Here's an example to demonstrate the usage of a lambda function:\n"
   ]
  },
  {
   "cell_type": "code",
   "execution_count": 42,
   "id": "c3d8cb1d",
   "metadata": {},
   "outputs": [
    {
     "name": "stdout",
     "output_type": "stream",
     "text": [
      "10\n",
      "10\n"
     ]
    }
   ],
   "source": [
    "# Regular function to double a number\n",
    "def double(x):\n",
    "    return x * 2\n",
    "\n",
    "result = double(5)\n",
    "print(result)\n",
    "# The same functionality can be achieved using a lambda function:\n",
    "\n",
    "\n",
    "# Lambda function to double a number\n",
    "double = lambda x: x * 2\n",
    "\n",
    "result = double(5)\n",
    "print(result)"
   ]
  },
  {
   "cell_type": "markdown",
   "id": "ede8ad03",
   "metadata": {},
   "source": [
    "In this example, we define a regular function called `double()` that takes a parameter `x` and returns its double value. We then call the function with `double(5)` and store the result in the variable `result`.\n",
    "\n",
    "The equivalent functionality is achieved using a lambda function by defining it as `double = lambda x: x * 2`. Here, `lambda x` specifies the parameter, `:` separates the parameter from the expression, and `x * 2` is the expression that doubles the input value.\n",
    "\n",
    "Lambda functions are particularly useful in scenarios where a small function is required as an argument for another function, such as in sorting, filtering, or mapping operations. They provide a concise and readable way to define such functions without the need for a full function definition."
   ]
  },
  {
   "cell_type": "markdown",
   "id": "932de25d",
   "metadata": {},
   "source": [
    "### 5. How does the concept of \"scope\" apply to functions in Python? Explain the difference between local scope and global scope."
   ]
  },
  {
   "cell_type": "markdown",
   "id": "37b5cb57",
   "metadata": {},
   "source": [
    "In Python, \"scope\" refers to the visibility and accessibility of variables within a program. It determines the portion of the code where a particular variable can be accessed. The concept of scope applies to functions in Python, and there are two main types of scope: local scope and global scope.\n",
    "\n",
    "1. Local Scope:\n",
    "A local scope refers to the portion of code within a function. Variables defined within this scope are called local variables and are only accessible within that specific function. Once the function execution is complete, the local variables cease to exist. Local variables cannot be accessed from outside the function.\n",
    "\n",
    "Here's an example illustrating local scope:"
   ]
  },
  {
   "cell_type": "code",
   "execution_count": 46,
   "id": "efd48eeb",
   "metadata": {},
   "outputs": [
    {
     "name": "stdout",
     "output_type": "stream",
     "text": [
      "10\n"
     ]
    },
    {
     "ename": "NameError",
     "evalue": "name 'y' is not defined",
     "output_type": "error",
     "traceback": [
      "\u001b[1;31m---------------------------------------------------------------------------\u001b[0m",
      "\u001b[1;31mNameError\u001b[0m                                 Traceback (most recent call last)",
      "Input \u001b[1;32mIn [46]\u001b[0m, in \u001b[0;36m<cell line: 6>\u001b[1;34m()\u001b[0m\n\u001b[0;32m      3\u001b[0m     \u001b[38;5;28mprint\u001b[39m(y)  \u001b[38;5;66;03m# Accessible within the function\u001b[39;00m\n\u001b[0;32m      5\u001b[0m my_function()\n\u001b[1;32m----> 6\u001b[0m \u001b[38;5;28mprint\u001b[39m(\u001b[43my\u001b[49m)\n",
      "\u001b[1;31mNameError\u001b[0m: name 'y' is not defined"
     ]
    }
   ],
   "source": [
    "def my_function():\n",
    "    y = 10\n",
    "    print(y)  # Accessible within the function\n",
    "\n",
    "my_function()\n",
    "print(y)  # Error: y is not defined"
   ]
  },
  {
   "cell_type": "markdown",
   "id": "9662f335",
   "metadata": {},
   "source": [
    "\n",
    "In this example, the variable `y` is defined within the `my_function()` function. It is accessible and can be used within the function. However, outside of the function, trying to access `y` will result in an error because `y` only exists within the local scope of the function.\n",
    "\n",
    "2. Global Scope:\n",
    "A global scope refers to the portion of code outside of any function. Variables defined in this scope are called global variables and are accessible throughout the program, including inside functions. Global variables retain their values throughout the program's execution and can be accessed and modified from any part of the code.\n",
    "\n",
    "Here's an example illustrating global scope:"
   ]
  },
  {
   "cell_type": "code",
   "execution_count": 47,
   "id": "bfa2b464",
   "metadata": {},
   "outputs": [
    {
     "name": "stdout",
     "output_type": "stream",
     "text": [
      "10\n",
      "10\n"
     ]
    }
   ],
   "source": [
    "y = 10  # Global variable\n",
    "\n",
    "def my_function():\n",
    "    print(y)  # Accessible within the function\n",
    "\n",
    "my_function()\n",
    "print(y)  # Accessible outside the function as well\n"
   ]
  },
  {
   "cell_type": "markdown",
   "id": "014879f8",
   "metadata": {},
   "source": [
    "In this example, the variable `y` is defined outside of any function, making it a global variable. It can be accessed and used both within the `my_function()` function and outside of it. Any modifications made to `y` within the function will affect its value globally.\n",
    "\n",
    "It's important to note that if a variable is defined with the same name in both the local and global scopes, the local variable will take precedence within its respective scope. This is known as \"shadowing\" the global variable.\n",
    "\n",
    "Understanding the concept of scope is crucial for writing maintainable and bug-free code, as it helps in organizing variables and preventing unintended interactions between different parts of the program."
   ]
  },
  {
   "cell_type": "markdown",
   "id": "90be8a4b",
   "metadata": {},
   "source": [
    "### 6. How can you use the \"return\" statement in a Python function to return multiple values?"
   ]
  },
  {
   "cell_type": "markdown",
   "id": "702021f9",
   "metadata": {},
   "source": [
    "In Python, the `return` statement in a function can be used to return multiple values by returning them as a tuple, list, or any other iterable object. This allows you to effectively return multiple values from a single function call. Here's an example to demonstrate this:"
   ]
  },
  {
   "cell_type": "code",
   "execution_count": 53,
   "id": "232bb84f",
   "metadata": {},
   "outputs": [
    {
     "name": "stdout",
     "output_type": "stream",
     "text": [
      "Mahesh\n",
      "20\n",
      "Hyderabad\n"
     ]
    }
   ],
   "source": [
    "def get_details():\n",
    "    name = \"Mahesh\"\n",
    "    age = 20\n",
    "    city = \"Hyderabad\"\n",
    "    return name, age, city\n",
    "\n",
    "# Calling the function and storing the returned values\n",
    "result = get_details()\n",
    "\n",
    "# Accessing the returned values\n",
    "name, age, city = result\n",
    "print(name)  # Output: Mahesh\n",
    "print(age)   # Output: 20\n",
    "print(city)  # Output: Hyderabad\n"
   ]
  },
  {
   "cell_type": "markdown",
   "id": "af57d4c0",
   "metadata": {},
   "source": [
    "\n",
    "In the example above, the `get_details()` function returns three values: `name`, `age`, and `city`. Instead of explicitly returning them as separate variables, they are returned as a tuple by omitting the parentheses. The tuple containing the values `(name, age, city)` is assigned to the variable `result` when the function is called.\n",
    "\n",
    "To access the individual values, we use multiple assignment to unpack the returned tuple. In this case, we assign the values to the variables `name`, `age`, and `city`. Finally, we print the values to confirm that the function returned multiple values successfully.\n",
    "\n",
    "It's worth noting that when multiple values are returned without explicitly specifying a data structure (such as a tuple or a list), they are actually returned as a tuple. So, in the example above, the `return name, age, city` statement is equivalent to `return (name, age, city)`."
   ]
  },
  {
   "cell_type": "markdown",
   "id": "e08684c9",
   "metadata": {},
   "source": [
    "### 7. What is the difference between the \"pass by value\" and \"pass by reference\" concepts when it comes to function arguments in Python?"
   ]
  },
  {
   "cell_type": "markdown",
   "id": "718dbc13",
   "metadata": {},
   "source": [
    "In Python, the concepts of \"pass by value\" and \"pass by reference\" are often misunderstood because Python uses a combination of both approaches, depending on the type of the object being passed as an argument. Let's clarify these concepts:\n",
    "\n",
    "#### 1. Pass by Value:\n",
    "In pass by value, a copy of the value is passed to the function, and any modifications made to the parameter within the function do not affect the original value outside the function. This is the behavior observed with immutable objects, such as numbers, strings, and tuples, in Python.\n",
    "\n",
    "Example of pass by value:"
   ]
  },
  {
   "cell_type": "code",
   "execution_count": 64,
   "id": "a65d8155",
   "metadata": {},
   "outputs": [
    {
     "name": "stdout",
     "output_type": "stream",
     "text": [
      "Inside the function: 15\n",
      "Outside the function: 10\n"
     ]
    }
   ],
   "source": [
    "def modify_value(x):\n",
    "    x += 5\n",
    "    print(\"Inside the function:\", x)\n",
    "\n",
    "value = 10\n",
    "modify_value(value)\n",
    "print(\"Outside the function:\", value)"
   ]
  },
  {
   "cell_type": "markdown",
   "id": "c397f38a",
   "metadata": {},
   "source": [
    "In this example, `value` is an integer object. When it is passed to the `modify_value()` function, a copy of its value (10) is passed as an argument. Inside the function, the value is modified by adding 5 to it, resulting in 15. However, the original value of `value` remains unchanged outside the function.\n",
    "\n",
    "#### 2. Pass by Reference:\n",
    "In pass by reference, a reference to the object is passed to the function, allowing the function to modify the object directly. This behavior is observed with mutable objects, such as lists and dictionaries, in Python.\n",
    "\n",
    "Example of pass by reference:"
   ]
  },
  {
   "cell_type": "code",
   "execution_count": 65,
   "id": "06b5e677",
   "metadata": {},
   "outputs": [
    {
     "name": "stdout",
     "output_type": "stream",
     "text": [
      "Inside the function: [1, 2, 3, 4]\n",
      "Outside the function: [1, 2, 3, 4]\n"
     ]
    }
   ],
   "source": [
    "def modify_list(lst):\n",
    "    lst.append(4)\n",
    "    print(\"Inside the function:\", lst)\n",
    "\n",
    "my_list = [1, 2, 3]\n",
    "modify_list(my_list)\n",
    "print(\"Outside the function:\", my_list)"
   ]
  },
  {
   "cell_type": "markdown",
   "id": "24331a64",
   "metadata": {},
   "source": [
    "\n",
    "In this example, `my_list` is a list object. When it is passed to the `modify_list()` function, a reference to the list is passed as an argument. Inside the function, the list is modified by appending the value 4 to it. The modification affects the original list object, so when we print `my_list` outside the function, it reflects the changes made inside the function.\n",
    "\n",
    "To summarize, Python is neither strictly pass by value nor pass by reference. Immutable objects are effectively passed by value, while mutable objects are effectively passed by reference, where modifications made to the object within the function are visible outside the function. Understanding this behavior is important for correctly working with function arguments in Python."
   ]
  },
  {
   "cell_type": "markdown",
   "id": "da2d381b",
   "metadata": {},
   "source": [
    "### 8. Create a function that can intake integer or decimal value and do following operations:\n",
    "### a. Logarithmic function (log x)\n",
    "### b. Exponential function (exp(x))\n",
    "### c. Power function with base 2 (2x)\n",
    "### d. Square root"
   ]
  },
  {
   "cell_type": "markdown",
   "id": "d998276b",
   "metadata": {},
   "source": [
    "Below is the Python function that can perform the specified operations for both integer and decimal input values:"
   ]
  },
  {
   "cell_type": "code",
   "execution_count": 73,
   "id": "46c89447",
   "metadata": {},
   "outputs": [
    {
     "name": "stdout",
     "output_type": "stream",
     "text": [
      "Result\n",
      "======================================\n",
      "Results for integer input (5):\n",
      "Logarithmic function (log 5): 1.6094379124341003\n",
      "Exponential function (exp(5)): 148.4131591025766\n",
      "Power function with base 2 (2^5): 32.0\n",
      "Square root (√5): 2.23606797749979\n",
      "\n",
      "Results for decimal input (2.5):\n",
      "Logarithmic function (log 2.5): 0.9162907318741551\n",
      "Exponential function (exp(2.5)): 12.182493960703473\n",
      "Power function with base 2 (2^2.5): 5.656854249492381\n",
      "Square root (√2.5): 1.5811388300841898\n",
      "=======================================\n"
     ]
    }
   ],
   "source": [
    "import math\n",
    "\n",
    "def math_operations(value):\n",
    "    # Logarithmic function (log x)\n",
    "    log_result = math.log(value)\n",
    "    \n",
    "    # Exponential function (exp(x))\n",
    "    exp_result = math.exp(value)\n",
    "    \n",
    "    # Power function with base 2 (2^x)\n",
    "    power_result = math.pow(2, value)\n",
    "    \n",
    "    # Square root\n",
    "    sqrt_result = math.sqrt(value)\n",
    "    \n",
    "    return log_result, exp_result, power_result, sqrt_result\n",
    "\n",
    "# Test with integer and decimal values\n",
    "integer_result = math_operations(5)\n",
    "decimal_result = math_operations(2.5)\n",
    "\n",
    "print(\"Result\")\n",
    "print(\"======================================\")\n",
    "print(\"Results for integer input (5):\")\n",
    "print(\"Logarithmic function (log 5):\", integer_result[0])\n",
    "print(\"Exponential function (exp(5)):\", integer_result[1])\n",
    "print(\"Power function with base 2 (2^5):\", integer_result[2])\n",
    "print(\"Square root (√5):\", integer_result[3])\n",
    "\n",
    "print(\"\\nResults for decimal input (2.5):\")\n",
    "print(\"Logarithmic function (log 2.5):\", decimal_result[0])\n",
    "print(\"Exponential function (exp(2.5)):\", decimal_result[1])\n",
    "print(\"Power function with base 2 (2^2.5):\", decimal_result[2])\n",
    "print(\"Square root (√2.5):\", decimal_result[3])\n",
    "print(\"=======================================\")"
   ]
  },
  {
   "cell_type": "markdown",
   "id": "7453ba25",
   "metadata": {},
   "source": [
    "In this function, the `math` module is imported to access the required mathematical functions. The function `math_operations()` takes a single argument `value`, and it computes the logarithmic function, exponential function, power function with base 2, and square root of the input value. The results are then returned as a tuple.\n",
    "\n",
    "The function is then tested with an integer value `5` and a decimal value `2.5`. The respective results for each operation are printed for both the integer and decimal inputs."
   ]
  },
  {
   "cell_type": "markdown",
   "id": "a49016d3",
   "metadata": {},
   "source": [
    "### 9. Create a function that takes a full name as an argument and returns first name and last name."
   ]
  },
  {
   "cell_type": "markdown",
   "id": "afa50e73",
   "metadata": {},
   "source": [
    "Here's a Python function that takes a full name as an argument and returns the first name and last name:"
   ]
  },
  {
   "cell_type": "code",
   "execution_count": 81,
   "id": "3f5c0352",
   "metadata": {},
   "outputs": [
    {
     "name": "stdout",
     "output_type": "stream",
     "text": [
      "First Name: Javiniki\n",
      "Last Name: Mahesh\n"
     ]
    }
   ],
   "source": [
    "def get_first_last_name(full_name):\n",
    "    names = full_name.split()\n",
    "    first_name = names[0]\n",
    "    last_name = names[-1]\n",
    "    return first_name, last_name\n",
    "\n",
    "# Test the function\n",
    "full_name = \"Javiniki Mahesh\"\n",
    "first_name, last_name = get_first_last_name(full_name)\n",
    "\n",
    "print(\"First Name:\", first_name)\n",
    "print(\"Last Name:\", last_name)"
   ]
  },
  {
   "cell_type": "markdown",
   "id": "bfbfd21d",
   "metadata": {},
   "source": [
    "\n",
    "In this function, `get_first_last_name()` takes the `full_name` as an argument. Within the function, the `split()` method is used to split the full name into a list of separate names based on whitespace. The assumption here is that the full name consists of the first name followed by the last name.\n",
    "\n",
    "The first name is extracted by accessing the first element of the `names` list, which corresponds to the first name. The last name is extracted by accessing the last element of the `names` list, which corresponds to the last name.\n",
    "\n",
    "Finally, the function returns the first name and last name as a tuple.\n",
    "\n",
    "To test the function, we pass the full name \"Javiniki Mahesh\" to the function and store the returned values in the `first_name` and `last_name` variables. We then print the first name and last name to verify that the function correctly extracted and returned the desired values."
   ]
  },
  {
   "cell_type": "code",
   "execution_count": null,
   "id": "a9cba1dc",
   "metadata": {},
   "outputs": [],
   "source": []
  }
 ],
 "metadata": {
  "kernelspec": {
   "display_name": "Python 3 (ipykernel)",
   "language": "python",
   "name": "python3"
  },
  "language_info": {
   "codemirror_mode": {
    "name": "ipython",
    "version": 3
   },
   "file_extension": ".py",
   "mimetype": "text/x-python",
   "name": "python",
   "nbconvert_exporter": "python",
   "pygments_lexer": "ipython3",
   "version": "3.9.12"
  }
 },
 "nbformat": 4,
 "nbformat_minor": 5
}
