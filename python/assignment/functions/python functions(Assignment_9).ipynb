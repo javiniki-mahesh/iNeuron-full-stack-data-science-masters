{
 "cells": [
  {
   "cell_type": "markdown",
   "id": "e346682b",
   "metadata": {},
   "source": [
    "# python functions(Assignment_9)"
   ]
  },
  {
   "cell_type": "markdown",
   "id": "63003d7b",
   "metadata": {},
   "source": [
    "### 1. What is a lambda function in Python, and how does it differ from a regular function?"
   ]
  },
  {
   "cell_type": "markdown",
   "id": "09111375",
   "metadata": {},
   "source": [
    "In Python, a lambda function is a small, anonymous function that can be defined inline without a formal name. It is also known as an \"anonymous function\" or a \"function literal.\" Lambda functions are defined using the `lambda` keyword, followed by a list of arguments, a colon (`:`), and an expression that represents the function's body.\n",
    "\n",
    "The syntax for a lambda function is as follows:\n",
    "#### lambda arguments: expression\n",
    "\n",
    "\n",
    "Here's an example that demonstrates the usage of a lambda function:\n"
   ]
  },
  {
   "cell_type": "code",
   "execution_count": 3,
   "id": "4927a651",
   "metadata": {},
   "outputs": [
    {
     "name": "stdout",
     "output_type": "stream",
     "text": [
      "10\n"
     ]
    }
   ],
   "source": [
    "double = lambda x: x * 2\n",
    "print(double(5))  # Output: 10"
   ]
  },
  {
   "cell_type": "markdown",
   "id": "6471de29",
   "metadata": {},
   "source": [
    "In this example, the lambda function takes an argument `x` and returns its doubled value.\n",
    "\n",
    "The key differences between lambda functions and regular functions in Python are:\n",
    "\n",
    "1. **Anonymous nature:** Lambda functions are anonymous, meaning they don't have a name associated with them. They are primarily used when you need a simple, one-line function and don't want to define a separate named function.\n",
    "\n",
    "2. **Syntax and simplicity:** Lambda functions have a more concise syntax compared to regular functions. They consist of a single expression rather than a block of statements. This makes them useful for situations where a small, inline function is required.\n",
    "\n",
    "3. **Limited functionality:** Lambda functions are limited in functionality compared to regular functions. They can only contain a single expression, which means they can't include complex logic or multiple statements. Regular functions, on the other hand, can have multiple statements, local variables, and more complex control flow.\n",
    "\n",
    "4. **Usage as function arguments:** Lambda functions are commonly used as arguments for higher-order functions like `map()`, `filter()`, and `reduce()`. These functions accept other functions as parameters, and lambda functions provide a convenient way to define these functions inline without explicitly creating named functions.\n",
    "\n",
    "It's worth noting that lambda functions are not a replacement for regular functions in Python. They are typically used in situations where a simple, one-line function is needed, such as in functional programming paradigms or when working with higher-order functions. For more complex or reusable functions, it is generally recommended to use regular named functions."
   ]
  },
  {
   "cell_type": "markdown",
   "id": "93ccaab2",
   "metadata": {},
   "source": [
    "### 2. Can a lambda function in Python have multiple arguments? If yes, how can you define and use them?"
   ]
  },
  {
   "cell_type": "markdown",
   "id": "36e43476",
   "metadata": {},
   "source": [
    "Yes, a lambda function in Python can have multiple arguments. The syntax for defining a lambda function with multiple arguments is similar to that of a regular function.\n",
    "\n",
    "The general syntax for a lambda function with multiple arguments is as follows:\n",
    "#### lambda arg1, arg2, ..., argN: expression\n",
    "\n",
    "\n",
    "Here's an example that demonstrates the usage of a lambda function with multiple arguments:"
   ]
  },
  {
   "cell_type": "code",
   "execution_count": 6,
   "id": "3822cd52",
   "metadata": {},
   "outputs": [
    {
     "name": "stdout",
     "output_type": "stream",
     "text": [
      "12\n"
     ]
    }
   ],
   "source": [
    "multiply = lambda x, y: x * y\n",
    "print(multiply(3, 4))  # Output: 12"
   ]
  },
  {
   "cell_type": "markdown",
   "id": "a204dcf7",
   "metadata": {},
   "source": [
    "In this example, the lambda function takes two arguments, `x` and `y`, and returns their multiplication.\n",
    "\n",
    "You can define lambda functions with any number of arguments by separating them with commas in the argument list. Just like regular functions, lambda functions can have zero or more arguments.\n",
    "\n",
    "To use a lambda function with multiple arguments, you simply call it with the appropriate number of arguments, separated by commas, just like you would with a regular function.\n",
    "\n",
    "Here's another example that uses a lambda function with three arguments:"
   ]
  },
  {
   "cell_type": "code",
   "execution_count": 8,
   "id": "07e2df18",
   "metadata": {},
   "outputs": [
    {
     "name": "stdout",
     "output_type": "stream",
     "text": [
      "6\n"
     ]
    }
   ],
   "source": [
    "add_three_numbers = lambda a, b, c: a + b + c\n",
    "print(add_three_numbers(1, 2, 3))  # Output: 6"
   ]
  },
  {
   "cell_type": "markdown",
   "id": "4a3ab33b",
   "metadata": {},
   "source": [
    "In this example, the lambda function `add_three_numbers` takes three arguments, `a`, `b`, and `c`, and returns their sum.\n",
    "\n",
    "Remember that lambda functions are primarily used for simple, one-line functions. If you find yourself needing more complex logic or multiple statements, it is generally recommended to use regular named functions instead."
   ]
  },
  {
   "cell_type": "markdown",
   "id": "e44615ff",
   "metadata": {},
   "source": [
    "### 3. How are lambda functions typically used in Python? Provide an example use case."
   ]
  },
  {
   "cell_type": "markdown",
   "id": "3274441c",
   "metadata": {},
   "source": [
    "Lambda functions in Python are commonly used in situations where a small, inline function is needed, especially when working with higher-order functions or functional programming paradigms. Here are a few example use cases for lambda functions:\n",
    "\n",
    "1. **Mapping:** Lambda functions are frequently used with the `map()` function to transform elements of an iterable. The `map()` function takes a function and an iterable as arguments, and it applies the function to each element of the iterable, returning an iterator of the results. Lambda functions are convenient for defining the transformation logic inline. For example:"
   ]
  },
  {
   "cell_type": "code",
   "execution_count": 10,
   "id": "26f6b429",
   "metadata": {},
   "outputs": [
    {
     "name": "stdout",
     "output_type": "stream",
     "text": [
      "[1, 4, 9, 16, 25]\n"
     ]
    }
   ],
   "source": [
    "numbers = [1, 2, 3, 4, 5]\n",
    "squared = list(map(lambda x: x**2, numbers))\n",
    "print(squared)"
   ]
  },
  {
   "cell_type": "markdown",
   "id": "915cdfb5",
   "metadata": {},
   "source": [
    "In this example, the lambda function squares each number in the `numbers` list using `map()`, resulting in a new list of squared numbers.\n",
    "\n",
    "2. **Filtering:** Lambda functions are also commonly used with the `filter()` function to select elements from an iterable based on a condition. The `filter()` function takes a function that returns a Boolean value and an iterable, and it returns an iterator containing the elements for which the function returns `True`. Lambda functions can be used to define the filtering condition inline. For example:"
   ]
  },
  {
   "cell_type": "code",
   "execution_count": 12,
   "id": "cc460897",
   "metadata": {},
   "outputs": [
    {
     "name": "stdout",
     "output_type": "stream",
     "text": [
      "[2, 4]\n"
     ]
    }
   ],
   "source": [
    "numbers = [1, 2, 3, 4, 5]\n",
    "even_numbers = list(filter(lambda x: x % 2 == 0, numbers))\n",
    "print(even_numbers)"
   ]
  },
  {
   "cell_type": "markdown",
   "id": "519bc9dc",
   "metadata": {},
   "source": [
    "In this example, the lambda function filters out the odd numbers from the `numbers` list using `filter()`, resulting in a new list of even numbers.\n",
    "\n",
    "3. **Sorting:** Lambda functions are useful for defining custom sorting criteria when working with functions like `sorted()` or `sort()`. These functions take a `key` parameter that specifies a function to extract a comparison key from each element. Lambda functions can be used to define the key extraction logic inline. For example:"
   ]
  },
  {
   "cell_type": "code",
   "execution_count": 14,
   "id": "43adab07",
   "metadata": {},
   "outputs": [
    {
     "name": "stdout",
     "output_type": "stream",
     "text": [
      "[('Charlie', 18), ('Alice', 25), ('Bob', 32)]\n"
     ]
    }
   ],
   "source": [
    "people = [('Alice', 25), ('Bob', 32), ('Charlie', 18)]\n",
    "people_sorted_by_age = sorted(people, key=lambda person: person[1])\n",
    "print(people_sorted_by_age)"
   ]
  },
  {
   "cell_type": "markdown",
   "id": "118512d6",
   "metadata": {},
   "source": [
    "\n",
    "\n",
    "In this example, the lambda function extracts the second element (age) from each tuple in the `people` list to determine the sorting order based on age.\n",
    "\n",
    "These are just a few examples of how lambda functions can be used in Python. Lambda functions provide a concise and convenient way to define small, disposable functions on the fly, making code more expressive and compact."
   ]
  },
  {
   "cell_type": "markdown",
   "id": "d79232ef",
   "metadata": {},
   "source": [
    "### 4. What are the advantages and limitations of lambda functions compared to regular functions in Python?"
   ]
  },
  {
   "cell_type": "markdown",
   "id": "c20a0991",
   "metadata": {},
   "source": [
    "Lambda functions in Python have certain advantages and limitations compared to regular functions. Let's examine them:\n",
    "\n",
    "Advantages of lambda functions:\n",
    "\n",
    "1. **Concise syntax**: Lambda functions have a more compact syntax compared to regular functions. They allow you to define simple, one-line functions without the need for a formal function declaration or a separate name.\n",
    "\n",
    "2. **Inline definition**: Lambda functions are defined inline, meaning they can be directly embedded within the code where they are used. This eliminates the need to define a separate function elsewhere in the code, making the code more streamlined and focused.\n",
    "\n",
    "3. **Functional programming**: Lambda functions are particularly useful when working with functional programming concepts such as higher-order functions, mapping, filtering, and reducing. They enable you to express transformations and operations on data in a more expressive and concise manner.\n",
    "\n",
    "Limitations of lambda functions:\n",
    "\n",
    "1. **Limited functionality**: Lambda functions are limited in their functionality compared to regular functions. They are restricted to a single expression and cannot include multiple statements, local variables, or complex control flow. This limitation makes them suitable for simple computations but less suitable for more complex tasks.\n",
    "\n",
    "2. **Reduced readability**: While lambda functions can be concise, their brevity can sometimes lead to reduced readability, especially if the expression becomes overly complex or convoluted. Regular functions with descriptive names and well-defined blocks of code can be more readable and easier to understand, particularly for larger or reusable functions.\n",
    "\n",
    "3. **Debugging and traceability**: Lambda functions lack a named identifier, which can make debugging more challenging. When an error occurs within a lambda function, the traceback will not provide a specific function name, making it harder to identify the source of the error.\n",
    "\n",
    "4. **Reusability**: Lambda functions are primarily intended for short, disposable functions. They are not easily reusable or shareable across different parts of the codebase. Regular functions, on the other hand, can be defined once and used in multiple places, promoting code reusability and maintainability.\n",
    "\n",
    "In summary, lambda functions offer conciseness and convenience for simple, one-line functions, especially when working with functional programming concepts. However, they have limitations in terms of functionality, readability, debuggability, and reusability, which may make regular functions a more suitable choice for more complex or reusable code."
   ]
  },
  {
   "cell_type": "markdown",
   "id": "66961257",
   "metadata": {},
   "source": [
    "### 5. Are lambda functions in Python able to access variables defined outside of their own scope? Explain with an example."
   ]
  },
  {
   "cell_type": "markdown",
   "id": "452ef3c3",
   "metadata": {},
   "source": [
    "Yes, lambda functions in Python have access to variables defined outside of their own scope. This concept is known as \"lexical scoping\" or \"closure.\"\n",
    "\n",
    "When a lambda function is defined, it can access variables from the surrounding scope in which it is defined. This includes variables from the global scope or variables defined in an enclosing function. The lambda function \"closes over\" these variables and retains access to them even if they go out of scope or are modified later.\n",
    "\n",
    "Here's an example to illustrate this behavior:"
   ]
  },
  {
   "cell_type": "code",
   "execution_count": 18,
   "id": "7f093e12",
   "metadata": {},
   "outputs": [
    {
     "name": "stdout",
     "output_type": "stream",
     "text": [
      "10\n",
      "15\n"
     ]
    }
   ],
   "source": [
    "def generate_multiplier(factor):\n",
    "    return lambda x: x * factor\n",
    "\n",
    "multiply_by_2 = generate_multiplier(2)\n",
    "multiply_by_3 = generate_multiplier(3)\n",
    "\n",
    "print(multiply_by_2(5))  \n",
    "print(multiply_by_3(5))  "
   ]
  },
  {
   "cell_type": "markdown",
   "id": "5085518f",
   "metadata": {},
   "source": [
    "In this example, the `generate_multiplier()` function takes a `factor` parameter and returns a lambda function that multiplies a given value by the `factor`. We create two instances of the lambda function: `multiply_by_2` and `multiply_by_3`. Each instance \"captures\" the value of `factor` from its respective invocation of `generate_multiplier()`.\n",
    "\n",
    "Even though the `factor` variable is not directly passed as an argument to the lambda functions, they still retain access to it because they are defined within the lexical scope of the `generate_multiplier()` function. This allows the lambda functions to multiply values by the corresponding factor even after the `generate_multiplier()` function has completed its execution.\n",
    "\n",
    "It's important to note that lambda functions do not create a separate copy of the variables they access. Instead, they maintain references to the variables in the enclosing scope. Therefore, if the variable is mutable (e.g., a list or dictionary), modifications made to it will be reflected in the lambda function as well.\n",
    "\n",
    "This ability to access variables from the enclosing scope makes lambda functions powerful for creating closures and implementing functional programming techniques."
   ]
  },
  {
   "cell_type": "markdown",
   "id": "bf2d7414",
   "metadata": {},
   "source": [
    "### 6. Write a lambda function to calculate the square of a given number"
   ]
  },
  {
   "cell_type": "markdown",
   "id": "a4070ae9",
   "metadata": {},
   "source": [
    "Here's a lambda function that calculates the square of a given number:"
   ]
  },
  {
   "cell_type": "code",
   "execution_count": 21,
   "id": "03c569a1",
   "metadata": {},
   "outputs": [],
   "source": [
    "square = lambda x: x ** 2"
   ]
  },
  {
   "cell_type": "markdown",
   "id": "bac75204",
   "metadata": {},
   "source": [
    "In this lambda function, the argument `x` is squared using the `**` operator, and the result is returned as the output.\n",
    "\n",
    "You can use this lambda function to calculate the square of a number by calling it with the desired value. Here's an example:"
   ]
  },
  {
   "cell_type": "code",
   "execution_count": 22,
   "id": "d02e8ac3",
   "metadata": {},
   "outputs": [
    {
     "name": "stdout",
     "output_type": "stream",
     "text": [
      "25\n"
     ]
    }
   ],
   "source": [
    "result = square(5)\n",
    "print(result) "
   ]
  },
  {
   "cell_type": "markdown",
   "id": "2bc60cba",
   "metadata": {},
   "source": [
    "In this example, we call the `square` lambda function with the argument `5`, which computes the square of `5` and assigns the result to the variable `result`. Finally, we print the value of `result`, which outputs `25` as the square of `5`."
   ]
  },
  {
   "cell_type": "markdown",
   "id": "1b52ef89",
   "metadata": {},
   "source": [
    "### 7. Create a lambda function to find the maximum value in a list of integers."
   ]
  },
  {
   "cell_type": "markdown",
   "id": "b6946aaa",
   "metadata": {},
   "source": [
    "Here's a lambda function that finds the maximum value in a list of integers:"
   ]
  },
  {
   "cell_type": "code",
   "execution_count": 28,
   "id": "028af660",
   "metadata": {},
   "outputs": [],
   "source": [
    "find_max = lambda lst: max(lst)"
   ]
  },
  {
   "cell_type": "markdown",
   "id": "ff402b96",
   "metadata": {},
   "source": [
    "In this lambda function, the argument `lst` represents the list of integers. The `max()` function is used to find the maximum value within the list, and that value is returned as the output of the lambda function.\n",
    "\n",
    "You can use this lambda function to find the maximum value in a list by calling it with the desired list as the argument. Here's an example:"
   ]
  },
  {
   "cell_type": "code",
   "execution_count": 29,
   "id": "59604194",
   "metadata": {},
   "outputs": [
    {
     "name": "stdout",
     "output_type": "stream",
     "text": [
      "10\n"
     ]
    }
   ],
   "source": [
    "numbers = [5, 8, 2, 10, 3]\n",
    "result = find_max(numbers)\n",
    "print(result)  "
   ]
  },
  {
   "cell_type": "markdown",
   "id": "fd8b5fa0",
   "metadata": {},
   "source": [
    "\n",
    "In this example, we have a list of integers called `numbers`. We call the `find_max` lambda function with `numbers` as the argument, which finds the maximum value within the list. The result is then assigned to the variable `result`, and we print its value, which outputs `10` as the maximum value in the list.\n",
    "\n",
    "Note that the lambda function simply wraps the `max()` function. Its purpose is to provide a concise and inline way to find the maximum value without the need for a separate named function declaration."
   ]
  },
  {
   "cell_type": "markdown",
   "id": "76f7c565",
   "metadata": {},
   "source": [
    "### 8. Implement a lambda function to filter out all the even numbers from a list of integers."
   ]
  },
  {
   "cell_type": "markdown",
   "id": "0a738b9a",
   "metadata": {},
   "source": [
    "Here's a lambda function that filters out all the even numbers from a list of integers:"
   ]
  },
  {
   "cell_type": "code",
   "execution_count": 50,
   "id": "7909b31c",
   "metadata": {},
   "outputs": [],
   "source": [
    "filter_even = lambda lst: list(filter(lambda x: x % 2 == 0, lst))"
   ]
  },
  {
   "cell_type": "markdown",
   "id": "06c6ad3f",
   "metadata": {},
   "source": [
    "In this lambda function, the argument `lst` represents the list of integers. The `filter()` function is used to apply a filtering condition to each element of the list. The inner lambda function checks if each element `x` is divisible by `2` (i.e., it is even) using the modulo operator `%`. Only the elements that satisfy the condition are included in the filtered result. The `list()` function is used to convert the filter object to a list.\n",
    "\n",
    "You can use this lambda function to filter out even numbers from a list by calling it with the desired list as the argument. Here's an example:"
   ]
  },
  {
   "cell_type": "code",
   "execution_count": 51,
   "id": "6e5c74d9",
   "metadata": {},
   "outputs": [
    {
     "name": "stdout",
     "output_type": "stream",
     "text": [
      "[8, 2, 10]\n"
     ]
    }
   ],
   "source": [
    "numbers = [5, 8, 2, 10, 3]\n",
    "result = filter_even(numbers)\n",
    "print(result) "
   ]
  },
  {
   "cell_type": "markdown",
   "id": "04e16b4d",
   "metadata": {},
   "source": [
    "In this example, we have a list of integers called `numbers`. We call the `filter_even` lambda function with `numbers` as the argument, which filters out the even numbers from the list. The result is then assigned to the variable `result`, and we print its value, which outputs `[8, 2, 10]` as the filtered list containing only the even numbers.\n",
    "\n",
    "The lambda function provides a concise and inline way to filter elements based on a condition without the need for a separate named function declaration."
   ]
  },
  {
   "cell_type": "markdown",
   "id": "7737a174",
   "metadata": {},
   "source": [
    "### 9. Write a lambda function to sort a list of strings in ascending order based on the length of each string."
   ]
  },
  {
   "cell_type": "markdown",
   "id": "0d1231e7",
   "metadata": {},
   "source": [
    "Here's a lambda function that sorts a list of strings in ascending order based on the length of each string:"
   ]
  },
  {
   "cell_type": "code",
   "execution_count": 54,
   "id": "59356f77",
   "metadata": {},
   "outputs": [],
   "source": [
    "sort_by_length = lambda lst: sorted(lst, key=lambda s: len(s))"
   ]
  },
  {
   "cell_type": "markdown",
   "id": "84ade542",
   "metadata": {},
   "source": [
    "In this lambda function, the argument `lst` represents the list of strings. The `sorted()` function is used to perform the sorting operation. The `key` parameter is set to another lambda function, which extracts the length of each string `s` using the `len()` function. This lambda function acts as a key function, providing the basis for the sorting comparison.\n",
    "\n",
    "You can use this lambda function to sort a list of strings by length in ascending order by calling it with the desired list as the argument. Here's an example:"
   ]
  },
  {
   "cell_type": "code",
   "execution_count": 56,
   "id": "bebf65c9",
   "metadata": {},
   "outputs": [
    {
     "name": "stdout",
     "output_type": "stream",
     "text": [
      "['date', 'apple', 'banana', 'cherry', 'elderberry']\n"
     ]
    }
   ],
   "source": [
    "strings = ['apple', 'banana', 'cherry', 'date', 'elderberry']\n",
    "result = sort_by_length(strings)\n",
    "print(result) "
   ]
  },
  {
   "cell_type": "markdown",
   "id": "a17b84b9",
   "metadata": {},
   "source": [
    "\n",
    "In this example, we have a list of strings called `strings`. We call the `sort_by_length` lambda function with `strings` as the argument, which sorts the strings in ascending order based on their lengths. The result is then assigned to the variable `result`, and we print its value, which outputs `['date', 'apple', 'banana', 'cherry', 'elderberry']` as the sorted list of strings.\n",
    "\n",
    "The lambda function provides a concise and inline way to define the key function for sorting, allowing you to sort elements based on a specific criterion without the need for a separate named function declaration."
   ]
  },
  {
   "cell_type": "markdown",
   "id": "fbd4215e",
   "metadata": {},
   "source": [
    "### 10. Create a lambda function that takes two lists as input and returns a new list containing the common elements between the two lists."
   ]
  },
  {
   "cell_type": "markdown",
   "id": "1f90caf6",
   "metadata": {},
   "source": [
    "Here's a lambda function that takes two lists as input and returns a new list containing the common elements between the two lists:"
   ]
  },
  {
   "cell_type": "code",
   "execution_count": 2,
   "id": "38f08b5e",
   "metadata": {},
   "outputs": [],
   "source": [
    "find_common_elements = lambda list1, list2: list(filter(lambda x: x in list1, list2))"
   ]
  },
  {
   "cell_type": "markdown",
   "id": "9210b1a3",
   "metadata": {},
   "source": [
    "In this lambda function, the arguments `list1` and `list2` represent the two input lists. The `filter()` function is used to apply a filtering condition to each element of `list2`. The inner lambda function checks if each element `x` is present in `list1` using the `in` operator. Only the elements that satisfy the condition (i.e., they are common to both lists) are included in the filtered result. The `list()` function is used to convert the filter object to a list.\n",
    "\n",
    "You can use this lambda function to find the common elements between two lists by calling it with the desired lists as arguments. Here's an example:"
   ]
  },
  {
   "cell_type": "code",
   "execution_count": 3,
   "id": "6f4d2a1d",
   "metadata": {},
   "outputs": [
    {
     "name": "stdout",
     "output_type": "stream",
     "text": [
      "[4, 5]\n"
     ]
    }
   ],
   "source": [
    "list1 = [1, 2, 3, 4, 5]\n",
    "list2 = [4, 5, 6, 7, 8]\n",
    "result = find_common_elements(list1, list2)\n",
    "print(result) "
   ]
  },
  {
   "cell_type": "markdown",
   "id": "2854fdff",
   "metadata": {},
   "source": [
    "In this example, we have two lists, `list1` and `list2`. We call the `find_common_elements` lambda function with `list1` and `list2` as arguments, which filters out the common elements between the two lists. The result is then assigned to the variable `result`, and we print its value, which outputs `[4, 5]` as the list containing the common elements between `list1` and `list2`.\n",
    "\n",
    "The lambda function provides a concise and inline way to filter elements based on a condition without the need for a separate named function declaration."
   ]
  },
  {
   "cell_type": "markdown",
   "id": "394193b8",
   "metadata": {},
   "source": [
    "### 11. Write a recursive function to calculate the factorial of a given positive integer."
   ]
  },
  {
   "cell_type": "markdown",
   "id": "2819091e",
   "metadata": {},
   "source": [
    "Here's an example of a recursive function to calculate the factorial of a given positive integer:"
   ]
  },
  {
   "cell_type": "code",
   "execution_count": 14,
   "id": "9c342938",
   "metadata": {},
   "outputs": [],
   "source": [
    "def factorial(n):\n",
    "    if n == 0:\n",
    "        return 1\n",
    "    else:\n",
    "        return n * factorial(n - 1)"
   ]
  },
  {
   "cell_type": "markdown",
   "id": "da3d6a2b",
   "metadata": {},
   "source": [
    "In this recursive function, the base case is when `n` is equal to 0. In that case, the function returns 1, as the factorial of 0 is defined as 1. For any other positive integer `n`, the function calls itself with the argument `n - 1` and multiplies the result by `n`.\n",
    "\n",
    "You can use this recursive function to calculate the factorial of a positive integer by calling it with the desired value. Here's an example:"
   ]
  },
  {
   "cell_type": "code",
   "execution_count": 15,
   "id": "b6fba00e",
   "metadata": {},
   "outputs": [
    {
     "name": "stdout",
     "output_type": "stream",
     "text": [
      "120\n"
     ]
    }
   ],
   "source": [
    "result = factorial(5)\n",
    "print(result)  "
   ]
  },
  {
   "cell_type": "markdown",
   "id": "fe8630a3",
   "metadata": {},
   "source": [
    "\n",
    "In this example, we call the `factorial` function with the argument `5`, which calculates the factorial of 5 using recursion. The result, which is `120`, is assigned to the variable `result`, and we print its value.\n",
    "\n",
    "The recursive function calculates the factorial by breaking down the problem into smaller subproblems until it reaches the base case. It's important to ensure that the function is called with a positive integer to avoid infinite recursion."
   ]
  },
  {
   "cell_type": "markdown",
   "id": "2ac1ab18",
   "metadata": {},
   "source": [
    "### 12. Implement a recursive function to compute the nth Fibonacci number."
   ]
  },
  {
   "cell_type": "markdown",
   "id": "b009cc4d",
   "metadata": {},
   "source": [
    "Here's an example of a recursive function to compute the nth Fibonacci number:"
   ]
  },
  {
   "cell_type": "code",
   "execution_count": 18,
   "id": "e5faa3d4",
   "metadata": {},
   "outputs": [],
   "source": [
    "def fibonacci(n):\n",
    "    if n <= 1:\n",
    "        return n\n",
    "    else:\n",
    "        return fibonacci(n - 1) + fibonacci(n - 2)"
   ]
  },
  {
   "cell_type": "markdown",
   "id": "15066c80",
   "metadata": {},
   "source": [
    "In this recursive function, the base case is when `n` is less than or equal to 1. In that case, the function returns `n` itself, as the Fibonacci sequence starts with 0 and 1. For any other positive integer `n`, the function calls itself recursively with the arguments `n - 1` and `n - 2`, and returns the sum of the two previous Fibonacci numbers.\n",
    "\n",
    "You can use this recursive function to compute the nth Fibonacci number by calling it with the desired value. Here's an example:"
   ]
  },
  {
   "cell_type": "code",
   "execution_count": 19,
   "id": "aac114ad",
   "metadata": {},
   "outputs": [
    {
     "name": "stdout",
     "output_type": "stream",
     "text": [
      "8\n"
     ]
    }
   ],
   "source": [
    "result = fibonacci(6)\n",
    "print(result)  "
   ]
  },
  {
   "cell_type": "markdown",
   "id": "aef95570",
   "metadata": {},
   "source": [
    "In this example, we call the `fibonacci` function with the argument `6`, which computes the 6th Fibonacci number using recursion. The result, which is `8`, is assigned to the variable `result`, and we print its value.\n",
    "\n",
    "The recursive function calculates the Fibonacci sequence by breaking down the problem into smaller subproblems until it reaches the base case. It's important to note that the recursive approach can be computationally expensive for large values of `n`, as it involves redundant calculations. Memoization or dynamic programming techniques can be applied to optimize the performance of the Fibonacci calculation."
   ]
  },
  {
   "cell_type": "markdown",
   "id": "6430c3f4",
   "metadata": {},
   "source": [
    "### 13. Create a recursive function to find the sum of all the elements in a given list."
   ]
  },
  {
   "cell_type": "markdown",
   "id": "6518b87d",
   "metadata": {},
   "source": [
    "Here's an example of a recursive function to find the sum of all the elements in a given list:"
   ]
  },
  {
   "cell_type": "code",
   "execution_count": 24,
   "id": "43aad615",
   "metadata": {},
   "outputs": [],
   "source": [
    "def list_sum(lst):\n",
    "    if len(lst) == 0:\n",
    "        return 0\n",
    "    else:\n",
    "        return lst[0] + list_sum(lst[1:])"
   ]
  },
  {
   "cell_type": "markdown",
   "id": "a3f630a0",
   "metadata": {},
   "source": [
    "In this recursive function, the base case is when the length of the list `lst` is equal to 0. In that case, the function returns 0, as the sum of an empty list is 0. For any non-empty list, the function recursively adds the first element `lst[0]` to the sum of the remaining elements `list_sum(lst[1:])`.\n",
    "\n",
    "You can use this recursive function to find the sum of all the elements in a given list by calling it with the desired list as the argument. Here's an example:"
   ]
  },
  {
   "cell_type": "code",
   "execution_count": 25,
   "id": "85265cc0",
   "metadata": {},
   "outputs": [
    {
     "name": "stdout",
     "output_type": "stream",
     "text": [
      "15\n"
     ]
    }
   ],
   "source": [
    "numbers = [1, 2, 3, 4, 5]\n",
    "result = list_sum(numbers)\n",
    "print(result)  \n"
   ]
  },
  {
   "cell_type": "markdown",
   "id": "0e63600e",
   "metadata": {},
   "source": [
    "In this example, we have a list of numbers called `numbers`. We call the `list_sum` function with `numbers` as the argument, which computes the sum of all the elements in the list using recursion. The result, which is `15`, is assigned to the variable `result`, and we print its value.\n",
    "\n",
    "The recursive function calculates the sum by breaking down the problem into smaller subproblems until it reaches the base case. It's important to ensure that the function is called with a non-empty list to avoid any errors."
   ]
  },
  {
   "cell_type": "markdown",
   "id": "f512c07e",
   "metadata": {},
   "source": [
    "### 14. Write a recursive function to determine whether a given string is a palindrome."
   ]
  },
  {
   "cell_type": "markdown",
   "id": "bed448ed",
   "metadata": {},
   "source": [
    "Here's an example of a recursive function to determine whether a given string is a palindrome:"
   ]
  },
  {
   "cell_type": "code",
   "execution_count": 34,
   "id": "791aa3c4",
   "metadata": {},
   "outputs": [],
   "source": [
    "def is_palindrome(s):\n",
    "    if len(s) <= 1:\n",
    "        return True\n",
    "    else:\n",
    "        if s[0] == s[-1]:\n",
    "            return is_palindrome(s[1:-1])\n",
    "        else:\n",
    "            return False"
   ]
  },
  {
   "cell_type": "markdown",
   "id": "a000b7cd",
   "metadata": {},
   "source": [
    "In this recursive function, the base case is when the length of the string `s` is less than or equal to 1. In that case, the function returns `True`, as a string with only one character or no characters is considered a palindrome. For any other string, the function checks if the first and last characters of the string are equal. If they are, the function calls itself recursively with the substring `s[1:-1]`, excluding the first and last characters. If the first and last characters are not equal, the function returns `False`.\n",
    "\n",
    "You can use this recursive function to determine whether a given string is a palindrome by calling it with the desired string as the argument. Here's an example:"
   ]
  },
  {
   "cell_type": "code",
   "execution_count": 35,
   "id": "23c58e6c",
   "metadata": {},
   "outputs": [
    {
     "name": "stdout",
     "output_type": "stream",
     "text": [
      "True\n",
      "False\n"
     ]
    }
   ],
   "source": [
    "string1 = \"radar\"\n",
    "string2 = \"hello\"\n",
    "result1 = is_palindrome(string1)\n",
    "result2 = is_palindrome(string2)\n",
    "print(result1) \n",
    "print(result2)  "
   ]
  },
  {
   "cell_type": "markdown",
   "id": "db3c6407",
   "metadata": {},
   "source": [
    "In this example, we have two strings, `string1` and `string2`. We call the `is_palindrome` function with `string1` and `string2` as arguments, which determines whether they are palindromes using recursion. The results, which are `True` for `string1` and `False` for `string2`, are assigned to the variables `result1` and `result2`, respectively. We print their values.\n",
    "\n",
    "The recursive function checks whether the given string is a palindrome by comparing the first and last characters, and then recursively checks the remaining substring. It continues this process until it reaches the base case or finds a mismatched pair of characters."
   ]
  },
  {
   "cell_type": "markdown",
   "id": "22e89731",
   "metadata": {},
   "source": [
    "### 15. Implement a recursive function to find the greatest common divisor (GCD) of two positive integers."
   ]
  },
  {
   "cell_type": "markdown",
   "id": "87a4f423",
   "metadata": {},
   "source": [
    "Here's an example of a recursive function to find the greatest common divisor (GCD) of two positive integers:"
   ]
  },
  {
   "cell_type": "code",
   "execution_count": 38,
   "id": "bedab196",
   "metadata": {},
   "outputs": [],
   "source": [
    "def gcd(a, b):\n",
    "    if b == 0:\n",
    "        return a\n",
    "    else:\n",
    "        return gcd(b, a % b)"
   ]
  },
  {
   "cell_type": "markdown",
   "id": "63760dc7",
   "metadata": {},
   "source": [
    "In this recursive function, the base case is when the second integer `b` is equal to 0. In that case, the function returns the first integer `a`, as the GCD of `a` and 0 is `a`. For any other positive integers `a` and `b`, the function calls itself recursively with the arguments `b` and `a % b`, which computes the remainder of `a` divided by `b`. This process continues until the base case is reached and the GCD is found.\n",
    "\n",
    "You can use this recursive function to find the GCD of two positive integers by calling it with the desired values. Here's an example:"
   ]
  },
  {
   "cell_type": "code",
   "execution_count": 40,
   "id": "e0a53f9d",
   "metadata": {},
   "outputs": [
    {
     "name": "stdout",
     "output_type": "stream",
     "text": [
      "12\n"
     ]
    }
   ],
   "source": [
    "result = gcd(24, 36)\n",
    "print(result)  "
   ]
  },
  {
   "cell_type": "markdown",
   "id": "9ac18be2",
   "metadata": {},
   "source": [
    "\n",
    "In this example, we call the `gcd` function with the arguments `24` and `36`, which computes the GCD of 24 and 36 using recursion. The result, which is `12`, is assigned to the variable `result`, and we print its value.\n",
    "\n",
    "The recursive function calculates the GCD by using the Euclidean algorithm, which repeatedly subtracts the smaller number from the larger number until the remainder is 0. The GCD is then the remaining nonzero number. The recursive approach simplifies the computation by repeatedly reducing the problem to a smaller subproblem until the base case is reached."
   ]
  },
  {
   "cell_type": "code",
   "execution_count": null,
   "id": "08c5a229",
   "metadata": {},
   "outputs": [],
   "source": []
  }
 ],
 "metadata": {
  "kernelspec": {
   "display_name": "Python 3 (ipykernel)",
   "language": "python",
   "name": "python3"
  },
  "language_info": {
   "codemirror_mode": {
    "name": "ipython",
    "version": 3
   },
   "file_extension": ".py",
   "mimetype": "text/x-python",
   "name": "python",
   "nbconvert_exporter": "python",
   "pygments_lexer": "ipython3",
   "version": "3.9.12"
  }
 },
 "nbformat": 4,
 "nbformat_minor": 5
}
